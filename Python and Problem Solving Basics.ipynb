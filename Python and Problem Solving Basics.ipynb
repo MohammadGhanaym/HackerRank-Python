{
 "cells": [
  {
   "cell_type": "markdown",
   "id": "9c1d1183",
   "metadata": {},
   "source": [
    "## Table of Contents\n",
    "  > ### DIFFICULTY: \n",
    "  > - [x] Easy\n",
    "  > - [ ] Medium\n",
    "  > - [ ] Hard\n",
    "  \n",
    "<li><a href='#Say \"Hello, World!\" With Python'>Say \"Hello, World!\" With Python</a></li>\n",
    "<li><a href=\"#Python If-Else\">Python If-Else</a></li>\n",
    "<li><a href=\"#Arithmetic Operators\">Arithmetic Operators</a></li>\n",
    "<li><a href=\"#Python: Division\">Python: Division</a></li>\n",
    "<li><a href=\"#Loops\">Loops</a></li>\n",
    "<li><a href=\"#Print Function\">Print Function</a></li>\n",
    "<li><a href=\"#collections.Counter()\">collections.Counter()</a></li>\n",
    "<li><a href=\"#List Comprehensions\">List Comprehensions</a></li>\n",
    "<li><a href=\"#Find the Runner-Up Score!\">Find the Runner-Up Score!</a></li>\n",
    "<li><a href=\"#Nested Lists\">Nested Lists</a></li>\n",
    "<li><a href=\"#Finding the percentage\">Finding the percentage</a></li>\n",
    "<li><a href=\"#Lists\">Lists</a></li>\n",
    "<li><a href=\"#Tuples\">Tuples</a></li>\n",
    "<li><a href=\"#sWAP cASE\">sWAP cASE</a></li>\n",
    "<li><a href=\"#String Split and Join\">String Split and Join</a></li>\n",
    "<li><a href=\"#What's Your Name?\">What's Your Name?</a></li>\n",
    "<li><a href=\"#Find a string\">Find a string</a></li>\n",
    "<li><a href=\"#String Validators\">String Validators</a></li>\n",
    "<li><a href=\"#Text Alignment\">Text Alignment</a></li>\n",
    "<li><a href=\"#Text Wrap\">Text Wrap</a></li>\n",
    "<li><a href=\"#Designer Door Mat\">Designer Door Mat</a></li>\n",
    "<li><a href=\"#String Formatting\">String Formatting</a></li>\n",
    "<li><a href=\"#Alphabet Rangoli\">Alphabet Rangoli</a></li>\n",
    "<li><a href=\"#Capitalize!\">Capitalize!</a></li>\n",
    "<li><a href=\"#itertools.product()\">itertools.product()</a></li>\n",
    "<li><a href=\"#itertools.permutations()\">itertools.permutations()</a></li>\n",
    "<li><a href=\"#Polar Coordinates\">Polar Coordinates</a></li>\n",
    "<li><a href=\"#Introduction to Sets\">Introduction to Sets</a></li>\n",
    "<li><a href=\"#Calendar Module\">Calendar Module</a></li>\n",
    "<li><a href=\"#Exceptions\">Exceptions</a></li>\n",
    "<li><a href=\"#Collections.namedtuple()\">Collections.namedtuple()</a></li>\n",
    "<li><a href=\"#Collections.OrderedDict()\">Collections.OrderedDict()</a></li>\n",
    "<li><a href=\"#Symmetric Difference\">Symmetric Difference</a></li>\n",
    "<li><a href=\"#itertools.combinations()\">itertools.combinations()</a></li>\n",
    "<li><a href=\"#Incorrect Regex\">Incorrect Regex</a></li>\n",
    "<li><a href=\"#Set .add()\">Set .add()</a></li>\n",
    "<li><a href=\"#itertools.combinations_with_replacement()\">itertools.combinations_with_replacement()</a></li>\n",
    "<li><a href=\"#Set .discard(), .remove() & .pop()\">Set .discard(), .remove() & .pop()</a></li>\n",
    "<li><a href=\"#Collections.deque()\">Collections.deque()</a></li>\n",
    "<li><a href=\"#Set .union() Operation\">Set .union() Operation</a></li>\n",
    "<li><a href=\"#Set .intersection() Operation\">Set .intersection() Operation</a></li>\n",
    "<li><a href=\"#Mod Divmod\">Mod Divmod</a></li>\n",
    "<li><a href=\"#Power - Mod Power\">Power - Mod Power</a></li>\n",
    "<li><a href=\"#Set .difference() Operation\">Set .difference() Operation</a></li>\n",
    "<li><a href=\"#Integers Come In All Sizes\">Integers Come In All Sizes</a></li>\n",
    "<li><a href=\"#Set Mutations\">Set Mutations</a></li>\n",
    "<li><a href=\"#The Captain's Room\">The Captain's Room</a></li>\n",
    "<li><a href=\"#Check Subset\">Check Subset</a></li>\n",
    "<li><a href=\"#Check Strict Superset\">Check Strict Superset</a></li>\n",
    "<li><a href=\"#Zipped!\">Zipped!</a></li>\n",
    "<li><a href=\"#Input()\">Input()</a></li>\n",
    "<li><a href=\"#Python Evaluation\">Python Evaluation</a></li>\n",
    "<li><a href=\"#Any or All\">Any or All</a></li>\n",
    "<li><a href=\"#Detect Floating Point Number\">Detect Floating Point Number</a></li>\n",
    "<li><a href=\"#Map and Lambda Function\">Map and Lambda Function</a></li>\n",
    "<li><a href=\"#Re.split()\">Re.split()</a></li>\n",
    "<li><a href=\"#Group(), Groups() & Groupdict()\">Group(), Groups() & Groupdict()</a></li>\n",
    "<li><a href=\"#Re.findall() & Re.finditer()\">Re.findall() & Re.finditer()</a></li>\n",
    "<li><a href=\"#Validating Roman Numerals\">Validating Roman Numerals</a></li>\n",
    "<li><a href=\"#Validating phone numbers\">Validating phone numbers</a></li>\n",
    "<li><a href=\"#Validating and Parsing Email Addresses\">Validating and Parsing Email Addresses</a></li>\n",
    "<li><a href=\"#Validating UID\">Validating UID</a></li>\n",
    "<li><a href=\"#Arrays\">Arrays</a></li>\n",
    "<li><a href=\"#Shape and Reshape\">Shape and Reshape</a></li>\n",
    "<li><a href=\"#Transpose and Flatten\">Transpose and Flatten</a></li>\n",
    "<li><a href=\"#Concatenate\">Concatenate</a></li>\n",
    "<li><a href=\"#Zeros and Ones\">Zeros and Ones</a></li>\n",
    "<li><a href=\"#Eye and Identity\">Eye and Identity</a></li>\n",
    "<li><a href=\"#Array Mathematics\">Array Mathematics</a></li>\n",
    "<li><a href=\"#Floor, Ceil and Rint\">Floor, Ceil and Rint</a></li>\n",
    "<li><a href=\"#Sum and Prod\">Sum and Prod</a></li>\n",
    "<li><a href=\"#Min and Max\">Min and Max</a></li>\n",
    "<li><a href=\"#Mean, Var, and Std\">Mean, Var, and Std</a></li>\n",
    "<li><a href=\"#Dot and Cross\">Dot and Cross</a></li>\n",
    "<li><a href=\"#Inner and Outer\">Inner and Outer</a></li>\n",
    "<li><a href=\"#Linear Algebra\">Linear Algebra</a></li>\n",
    "<li><a href=\"#Re.start() & Re.end()\">Re.start() & Re.end()</a></li>\n",
    "\n",
    "\n",
    "  > ### DIFFICULTY: \n",
    "  > - [ ] Easy\n",
    "  > - [X] Medium\n",
    "  > - [ ] Hard\n",
    "  \n",
    "<li><a href=\"#Merge the Tools!\">Merge the Tools!</a></li>\n",
    "<li><a href=\"#Company Logo\">Company Logo</a></li>\n",
    "<li><a href=\"#The Minion Game\">The Minion Game</a></li>\n",
    "<li><a href=\"#Time Delta\">Time Delta</a></li>\n",
    "<li><a href=\"#Find Angle MBC\">Find Angle MBC</a></li>\n",
    "<li><a href=\"#No Idea!\">No Idea!</a></li>\n",
    "<li><a href=\"#Write_Here\">Write_Here</a></li>\n",
    "<li><a href=\"#Write_Here\">Write_Here</a></li>\n",
    "<li><a href=\"#Write_Here\">Write_Here</a></li>\n",
    "<li><a href=\"#Write_Here\">Write_Here</a></li>\n",
    "<li><a href=\"#Write_Here\">Write_Here</a></li>\n",
    "<li><a href=\"#Write_Here\">Write_Here</a></li>\n",
    "<li><a href=\"#Write_Here\">Write_Here</a></li>\n",
    "<li><a href=\"#Write_Here\">Write_Here</a></li>\n",
    "<li><a href=\"#Write_Here\">Write_Here</a></li>\n",
    "<li><a href=\"#Write_Here\">Write_Here</a></li>\n",
    "<li><a href=\"#Write_Here\">Write_Here</a></li>\n",
    "<li><a href=\"#Write_Here\">Write_Here</a></li>\n",
    "<li><a href=\"#Write_Here\">Write_Here</a></li>\n",
    "<li><a href=\"#Write_Here\">Write_Here</a></li>\n",
    "<li><a href=\"#Write_Here\">Write_Here</a></li>\n",
    "<li><a href=\"#Write_Here\">Write_Here</a></li>\n",
    "<li><a href=\"#Write_Here\">Write_Here</a></li>\n",
    "<li><a href=\"#Write_Here\">Write_Here</a></li>\n",
    "<li><a href=\"#Write_Here\">Write_Here</a></li>"
   ]
  },
  {
   "cell_type": "markdown",
   "id": "c7af9417",
   "metadata": {},
   "source": [
    "<a id='Say \"Hello, World!\" With Python'></a>\n",
    "### Say \"Hello, World!\" With Python"
   ]
  },
  {
   "cell_type": "code",
   "execution_count": null,
   "id": "43882cf0",
   "metadata": {
    "ExecuteTime": {
     "end_time": "2021-07-27T16:11:03.817875Z",
     "start_time": "2021-07-27T16:11:03.806884Z"
    }
   },
   "outputs": [],
   "source": [
    "if __name__ == '__main__':\n",
    "    print('Hello, World!')"
   ]
  },
  {
   "cell_type": "markdown",
   "id": "64d10f24",
   "metadata": {},
   "source": [
    "### Python If-Else\n",
    "<a id='Python If-Else'></a>"
   ]
  },
  {
   "cell_type": "code",
   "execution_count": null,
   "id": "84abc560",
   "metadata": {
    "ExecuteTime": {
     "end_time": "2021-07-27T16:12:52.476772Z",
     "start_time": "2021-07-27T16:12:51.695032Z"
    }
   },
   "outputs": [],
   "source": [
    "if __name__ == '__main__':\n",
    "    n = int(input().strip())    \n",
    "    while(n < 1 or n > 100):\n",
    "        n = int(input().strip())\n",
    "    if n % 2 == 0:\n",
    "        if n in list(range(2, 6)):\n",
    "            print('Not Weird')\n",
    "        if n in list(range(6, 21)):\n",
    "            print('Weird')\n",
    "        if n > 20:\n",
    "            print('Not Weird')\n",
    "    else:\n",
    "        print('Weird')"
   ]
  },
  {
   "cell_type": "markdown",
   "id": "799985ba",
   "metadata": {},
   "source": [
    "### Arithmetic Operators\n",
    "<a id='Arithmetic Operators'></a>"
   ]
  },
  {
   "cell_type": "code",
   "execution_count": null,
   "id": "528872bd",
   "metadata": {
    "ExecuteTime": {
     "end_time": "2021-07-27T16:15:23.401999Z",
     "start_time": "2021-07-27T16:15:22.407514Z"
    }
   },
   "outputs": [],
   "source": [
    "if __name__ == '__main__':\n",
    "    a = int(input())\n",
    "    while(a < 1):\n",
    "        a = int(input())\n",
    "    b = int(input())\n",
    "    while(b < 1):\n",
    "        b = int(input())\n",
    "    print(a + b)\n",
    "    print(a - b)\n",
    "    print(a * b)"
   ]
  },
  {
   "cell_type": "markdown",
   "id": "a1067248",
   "metadata": {},
   "source": [
    "### Python: Division\n",
    "<a id='Python: Division'></a>"
   ]
  },
  {
   "cell_type": "code",
   "execution_count": null,
   "id": "0dbdb89c",
   "metadata": {
    "ExecuteTime": {
     "end_time": "2021-07-27T16:15:38.836671Z",
     "start_time": "2021-07-27T16:15:37.610283Z"
    }
   },
   "outputs": [],
   "source": [
    "if __name__ == '__main__':\n",
    "    a = int(input())\n",
    "    b = int(input())\n",
    "    while(b == 0):\n",
    "        print(\"We can't Division by zero\")\n",
    "        b = int(input())\n",
    "    print(a//b)\n",
    "    print(a/b)"
   ]
  },
  {
   "cell_type": "markdown",
   "id": "7e0ddc8f",
   "metadata": {},
   "source": [
    "### Loops\n",
    "<a id='Loops'></a>"
   ]
  },
  {
   "cell_type": "code",
   "execution_count": null,
   "id": "6d0c82ba",
   "metadata": {
    "ExecuteTime": {
     "end_time": "2021-07-27T16:11:33.550328Z",
     "start_time": "2021-07-27T16:11:30.460149Z"
    }
   },
   "outputs": [],
   "source": [
    "if __name__ == '__main__':\n",
    "    n = int(input())\n",
    "    while(n < 1 or n > 20):\n",
    "        n = int(input())\n",
    "    for i in range(n):\n",
    "        print(i**2)"
   ]
  },
  {
   "cell_type": "markdown",
   "id": "83681027",
   "metadata": {},
   "source": [
    "<a id='Print Function'></a>\n",
    "### Print Function\n",
    "\n"
   ]
  },
  {
   "cell_type": "code",
   "execution_count": null,
   "id": "65df2f3d",
   "metadata": {
    "ExecuteTime": {
     "end_time": "2021-07-27T16:16:03.554481Z",
     "start_time": "2021-07-27T16:16:02.484379Z"
    }
   },
   "outputs": [],
   "source": [
    "if __name__ == '__main__':\n",
    "    n = int(input())\n",
    "    while(n < 1 or n > 150):\n",
    "        n = int(input())\n",
    "    print(''.join([str(i+1) for i in range(n)]))"
   ]
  },
  {
   "cell_type": "markdown",
   "id": "b6977d07",
   "metadata": {},
   "source": [
    "### Write a function\n",
    "<a id='Write a function'></a>"
   ]
  },
  {
   "cell_type": "code",
   "execution_count": null,
   "id": "43bcb8ee",
   "metadata": {
    "ExecuteTime": {
     "end_time": "2021-07-27T16:16:22.612514Z",
     "start_time": "2021-07-27T16:16:20.561205Z"
    }
   },
   "outputs": [],
   "source": [
    "def is_leap(year):\n",
    "    leap = False\n",
    "    \n",
    "    if year % 4 == 0 and (year % 400 == 0 or year % 100 != 0):\n",
    "                leap = True\n",
    "    \n",
    "    return leap\n",
    "\n",
    "year = int(input())\n",
    "print(is_leap(year))"
   ]
  },
  {
   "cell_type": "markdown",
   "id": "968bdabc",
   "metadata": {},
   "source": [
    "### collections.Counter()\n",
    "<a id='collections.Counter()'></a>\n",
    "A counter is a container that stores elements as dictionary keys, and their counts are stored as dictionary values."
   ]
  },
  {
   "cell_type": "code",
   "execution_count": null,
   "id": "0ae68332",
   "metadata": {
    "ExecuteTime": {
     "end_time": "2021-07-28T16:48:31.813897Z",
     "start_time": "2021-07-28T16:47:52.250177Z"
    }
   },
   "outputs": [],
   "source": [
    "from collections import Counter\n",
    "\n",
    "X = int(input()) # the number of shoes\n",
    "shoe_sizes = input()\n",
    "\n",
    "shoe_sizes = Counter(shoe_sizes.split())\n",
    "\n",
    "N = int(input().strip()) # the number of customers\n",
    "total_price = 0\n",
    "\n",
    "#  the shoe size desired by the customer and the price of the shoe\n",
    "# compute the price of the shoes that are available \n",
    "for _ in range(N):\n",
    "    size, price = map(int,input().split())\n",
    "    for shoe_size, number in shoe_sizes.items():\n",
    "        if size == int(shoe_size) and shoe_sizes[shoe_size] != 0:\n",
    "            shoe_sizes[shoe_size] -= 1\n",
    "            total_price += price\n",
    "print(total_price)"
   ]
  },
  {
   "cell_type": "markdown",
   "id": "b21e907f",
   "metadata": {},
   "source": [
    "### List Comprehensions\n",
    "<a id='List Comprehensions'></a>\n"
   ]
  },
  {
   "cell_type": "code",
   "execution_count": null,
   "id": "9628ce5c",
   "metadata": {
    "ExecuteTime": {
     "end_time": "2021-07-29T13:32:44.468290Z",
     "start_time": "2021-07-29T13:32:42.239211Z"
    }
   },
   "outputs": [],
   "source": [
    "if __name__ == '__main__':\n",
    "    x = int(input())\n",
    "    y = int(input())\n",
    "    z = int(input())\n",
    "    n = int(input())\n",
    "    coordinates = []\n",
    "    for i in range(x+1):\n",
    "        for j in range(y+1):\n",
    "            for k in range(z+1):\n",
    "                if i+j+k != n:\n",
    "                    coordinates.append([i, j, k])\n",
    "    print(coordinates)"
   ]
  },
  {
   "cell_type": "markdown",
   "id": "2235cd94",
   "metadata": {
    "ExecuteTime": {
     "end_time": "2021-07-28T11:33:31.503545Z",
     "start_time": "2021-07-28T11:33:27.671524Z"
    }
   },
   "source": [
    "### Find the Runner-Up Score!\n",
    "<a id='Find the Runner-Up Score!'></a>"
   ]
  },
  {
   "cell_type": "code",
   "execution_count": null,
   "id": "8fc58424",
   "metadata": {
    "ExecuteTime": {
     "end_time": "2021-07-29T21:57:44.801007Z",
     "start_time": "2021-07-29T21:57:39.250017Z"
    },
    "scrolled": true
   },
   "outputs": [],
   "source": [
    "if __name__ == '__main__':\n",
    "    n = int(input())\n",
    "    arr = list(map(int, input().split()))\n",
    "    arr.sort()\n",
    "    runner_up = arr[0]\n",
    "    maximum = arr[-1]\n",
    "    for score in arr:\n",
    "        if score > runner_up and score < maximum:\n",
    "            runner_up = score\n",
    "    print(runner_up)"
   ]
  },
  {
   "cell_type": "markdown",
   "id": "af9d3201",
   "metadata": {},
   "source": [
    "### Nested Lists\n",
    "<a id='Nested Lists'></a>\n",
    "\n"
   ]
  },
  {
   "cell_type": "code",
   "execution_count": null,
   "id": "80601060",
   "metadata": {
    "ExecuteTime": {
     "end_time": "2021-07-30T11:46:12.098596Z",
     "start_time": "2021-07-30T11:45:41.676856Z"
    }
   },
   "outputs": [],
   "source": [
    "if __name__ == '__main__':\n",
    "    records = []\n",
    "    for _ in range(int(input())):\n",
    "        name = input()\n",
    "        score = float(input())\n",
    "        records.append([name, score])\n",
    "    records.sort(key = lambda s:s[1])\n",
    "    lowest = records[0]\n",
    "    sec_lowest = [records[-1]]\n",
    "    for name, score in records:\n",
    "        if score <= sec_lowest[0][1] and score > lowest[1]:\n",
    "            sec_lowest.append([name, score])\n",
    "            sec_lowest.sort(key = lambda s:s[1])\n",
    "    del sec_lowest[-1]\n",
    "    for name, score in sorted(sec_lowest):\n",
    "        print(name)"
   ]
  },
  {
   "cell_type": "markdown",
   "id": "cf6510c0",
   "metadata": {},
   "source": [
    "### Finding the percentage\n",
    "<a id='Finding the percentage'></a>"
   ]
  },
  {
   "cell_type": "code",
   "execution_count": null,
   "id": "54773c3b",
   "metadata": {
    "ExecuteTime": {
     "end_time": "2021-07-30T15:00:49.478967Z",
     "start_time": "2021-07-30T15:00:33.478595Z"
    }
   },
   "outputs": [],
   "source": [
    "if __name__ == '__main__':\n",
    "    n = int(input())\n",
    "    student_marks = {}\n",
    "    for _ in range(n):\n",
    "        name, *line = input().split()\n",
    "        scores = list(map(float, line))\n",
    "        student_marks[name] = scores\n",
    "    query_name = input()\n",
    "    print('{:.2f}'.format(sum(student_marks[query_name])/len(student_marks[query_name])))"
   ]
  },
  {
   "cell_type": "markdown",
   "id": "8b7c811e",
   "metadata": {},
   "source": [
    "<a id='Lists'></a>\n",
    "### Lists\n",
    "\n"
   ]
  },
  {
   "cell_type": "code",
   "execution_count": null,
   "id": "05ebf0a3",
   "metadata": {
    "ExecuteTime": {
     "end_time": "2021-07-30T15:28:29.753646Z",
     "start_time": "2021-07-30T15:27:51.399647Z"
    }
   },
   "outputs": [],
   "source": [
    "if __name__ == '__main__':\n",
    "    N = int(input())\n",
    "    arr = []\n",
    "    for _ in range(N):\n",
    "        command, *line = input().split()\n",
    "        if line and command == 'insert':\n",
    "            index, value = int(line[0]), int(line[1])\n",
    "        elif line and (command == 'append' or command == 'remove'):\n",
    "            value = int(line[0])\n",
    "        if command == 'insert':\n",
    "            arr.insert(index, value)\n",
    "        elif command == 'append':\n",
    "            arr.append(value)\n",
    "        elif command == 'remove':\n",
    "            arr.remove(value)\n",
    "        elif command == 'pop':\n",
    "            arr.pop()\n",
    "        elif command == 'sort':\n",
    "            arr.sort()\n",
    "        elif command == 'reverse':\n",
    "            arr.reverse()\n",
    "        elif command == 'print':\n",
    "            print(arr)"
   ]
  },
  {
   "cell_type": "markdown",
   "id": "be4345df",
   "metadata": {},
   "source": [
    "### Tuples\n",
    "<a id='Tuples'></a>\n"
   ]
  },
  {
   "cell_type": "code",
   "execution_count": null,
   "id": "11caca7d",
   "metadata": {
    "ExecuteTime": {
     "end_time": "2021-07-30T16:02:21.663294Z",
     "start_time": "2021-07-30T16:02:13.770906Z"
    }
   },
   "outputs": [],
   "source": [
    "if __name__ == '__main__':\n",
    "    n = int(input())\n",
    "    integer_list = tuple(map(int, input().strip().split()))\n",
    "    print(hash(integer_list))"
   ]
  },
  {
   "cell_type": "code",
   "execution_count": null,
   "id": "49e1657a",
   "metadata": {
    "ExecuteTime": {
     "end_time": "2021-07-30T16:01:25.851142Z",
     "start_time": "2021-07-30T16:01:20.370542Z"
    }
   },
   "outputs": [],
   "source": [
    "print(input() == 0 or hash(tuple(map(int, input().split(' ')))))"
   ]
  },
  {
   "cell_type": "markdown",
   "id": "f178e075",
   "metadata": {
    "ExecuteTime": {
     "end_time": "2021-07-30T16:33:28.427458Z",
     "start_time": "2021-07-30T16:33:28.410469Z"
    }
   },
   "source": [
    "### sWAP cASE\n",
    "<a id='sWAP cASE'></a>"
   ]
  },
  {
   "cell_type": "code",
   "execution_count": null,
   "id": "105bb401",
   "metadata": {
    "ExecuteTime": {
     "end_time": "2021-07-30T18:02:45.902136Z",
     "start_time": "2021-07-30T18:02:44.758606Z"
    }
   },
   "outputs": [],
   "source": [
    "def swap_case(s):\n",
    "    for index, character in enumerate(s):\n",
    "        if character.islower():\n",
    "            character = character.upper()\n",
    "        else:\n",
    "            character = character.lower()\n",
    "        if index == 0:\n",
    "            s = character + s[1:]\n",
    "        elif index == len(s) - 1:\n",
    "            s = s[:-1] + character\n",
    "        else:\n",
    "            s = s[:index] + character + s[index+1:]\n",
    "    return s\n",
    "\n",
    "if __name__ == '__main__':\n",
    "    s = input()\n",
    "    result = swap_case(s)\n",
    "    print(result)"
   ]
  },
  {
   "cell_type": "markdown",
   "id": "d066640a",
   "metadata": {},
   "source": [
    "### String Split and Join\n",
    "\n",
    "<a id='String Split and Join'></a>\n"
   ]
  },
  {
   "cell_type": "code",
   "execution_count": null,
   "id": "c3483343",
   "metadata": {
    "ExecuteTime": {
     "end_time": "2021-07-30T19:32:00.663284Z",
     "start_time": "2021-07-30T19:31:57.227593Z"
    }
   },
   "outputs": [],
   "source": [
    "def split_and_join(line):\n",
    "    return '-'.join(line.split())\n",
    "\n",
    "if __name__ == '__main__':\n",
    "    line = input()\n",
    "    result = split_and_join(line)\n",
    "    print(result)"
   ]
  },
  {
   "cell_type": "markdown",
   "id": "bddc2186",
   "metadata": {},
   "source": [
    "### What's Your Name?\n",
    "<a id=\"What's Your Name?\"></a>"
   ]
  },
  {
   "cell_type": "code",
   "execution_count": null,
   "id": "b5b3604f",
   "metadata": {
    "ExecuteTime": {
     "end_time": "2021-07-30T19:32:23.825545Z",
     "start_time": "2021-07-30T19:32:14.905121Z"
    }
   },
   "outputs": [],
   "source": [
    "#\n",
    "# Complete the 'print_full_name' function below.\n",
    "#\n",
    "# The function is expected to return a STRING.\n",
    "# The function accepts following parameters:\n",
    "#  1. STRING first\n",
    "#  2. STRING last\n",
    "#\n",
    "\n",
    "def print_full_name(first, last):\n",
    "    print(f'Hello {first} {last}! You just delved into python.')\n",
    "\n",
    "if __name__ == '__main__':\n",
    "    first_name = input()\n",
    "    last_name = input()\n",
    "    print_full_name(first_name, last_name)"
   ]
  },
  {
   "cell_type": "markdown",
   "id": "b9b2b20d",
   "metadata": {},
   "source": [
    "### Mutations\n",
    "<a id='Mutations'></a>"
   ]
  },
  {
   "cell_type": "code",
   "execution_count": null,
   "id": "254fa2c7",
   "metadata": {
    "ExecuteTime": {
     "end_time": "2021-07-30T19:37:00.603779Z",
     "start_time": "2021-07-30T19:36:17.248205Z"
    }
   },
   "outputs": [],
   "source": [
    "def mutate_string(string, position, character):\n",
    "    l = list(string)\n",
    "    l[position] = character\n",
    "    string = ''.join(l)\n",
    "    return string\n",
    "\n",
    "if __name__ == '__main__':\n",
    "    s = input()\n",
    "    i, c = input().split()\n",
    "    s_new = mutate_string(s, int(i), c)\n",
    "    print(s_new)"
   ]
  },
  {
   "cell_type": "markdown",
   "id": "75d04365",
   "metadata": {},
   "source": [
    "### Find a string\n",
    "<a id='Find a string'></a>"
   ]
  },
  {
   "cell_type": "code",
   "execution_count": null,
   "id": "45e75daf",
   "metadata": {
    "ExecuteTime": {
     "end_time": "2021-07-30T20:09:16.521368Z",
     "start_time": "2021-07-30T20:09:09.253688Z"
    }
   },
   "outputs": [],
   "source": [
    "def count_substring(string, sub_string):\n",
    "    count = 0\n",
    "    while string.find(sub_string) != -1:\n",
    "        index = string.find(sub_string)\n",
    "        count +=1\n",
    "        string = string[index + 1:]    \n",
    "    return count\n",
    "\n",
    "if __name__ == '__main__':\n",
    "    string = input().strip()\n",
    "    sub_string = input().strip()\n",
    "    \n",
    "    count = count_substring(string, sub_string)\n",
    "    print(count)"
   ]
  },
  {
   "cell_type": "markdown",
   "id": "ea6d32fb",
   "metadata": {},
   "source": [
    "### String Validators\n",
    "<a id='String Validators'></a>"
   ]
  },
  {
   "cell_type": "code",
   "execution_count": null,
   "id": "b948e2f4",
   "metadata": {
    "ExecuteTime": {
     "end_time": "2021-07-31T09:33:18.828591Z",
     "start_time": "2021-07-31T09:33:17.317306Z"
    }
   },
   "outputs": [],
   "source": [
    "if __name__ == '__main__':\n",
    "    s = input()\n",
    "    conditions = [False, False, False, False, False]\n",
    "    for ch in s:\n",
    "        if ch.isalnum():\n",
    "            conditions[0] = True\n",
    "        if ch.isalpha():\n",
    "            conditions[1] = True\n",
    "        if ch.isdigit():\n",
    "            conditions[2] = True\n",
    "        if ch.islower():\n",
    "            conditions[3] = True\n",
    "        if ch.isupper():\n",
    "            conditions[4] = True\n",
    "    for condition in conditions:\n",
    "        print(condition)"
   ]
  },
  {
   "cell_type": "markdown",
   "id": "f5d53ab5",
   "metadata": {},
   "source": [
    "### Text Alignment\n",
    "<a id='Text Alignment'></a>"
   ]
  },
  {
   "cell_type": "code",
   "execution_count": null,
   "id": "0fbde90d",
   "metadata": {
    "ExecuteTime": {
     "end_time": "2021-07-31T09:53:41.337401Z",
     "start_time": "2021-07-31T09:53:40.585062Z"
    }
   },
   "outputs": [],
   "source": [
    "#Replace all ______ with rjust, ljust or center. \n",
    "\n",
    "thickness = int(input()) #This must be an odd number\n",
    "c = 'H'\n",
    "\n",
    "#Top Cone\n",
    "for i in range(thickness):\n",
    "    print((c*i).rjust(thickness-1)+c+(c*i).ljust(thickness-1))\n",
    "\n",
    "#Top Pillars\n",
    "for i in range(thickness+1):\n",
    "    print((c*thickness).center(thickness*2)+(c*thickness).center(thickness*6))\n",
    "\n",
    "#Middle Belt\n",
    "for i in range((thickness+1)//2):\n",
    "    print((c*thickness*5).center(thickness*6))    \n",
    "\n",
    "#Bottom Pillars\n",
    "for i in range(thickness+1):\n",
    "    print((c*thickness).center(thickness*2)+(c*thickness).center(thickness*6))    \n",
    "\n",
    "#Bottom Cone\n",
    "for i in range(thickness):\n",
    "    print(((c*(thickness-i-1)).rjust(thickness)+c+(c*(thickness-i-1)).ljust(thickness)).rjust(thickness*6))\n"
   ]
  },
  {
   "cell_type": "markdown",
   "id": "8be4ac7d",
   "metadata": {},
   "source": [
    "### Text Wrap\n",
    "<a id='Text Wrap'></a>"
   ]
  },
  {
   "cell_type": "code",
   "execution_count": null,
   "id": "3f1010f7",
   "metadata": {
    "ExecuteTime": {
     "end_time": "2021-07-31T10:12:43.806760Z",
     "start_time": "2021-07-31T10:12:41.696985Z"
    }
   },
   "outputs": [],
   "source": [
    "import textwrap\n",
    "\n",
    "def wrap(string, max_width):\n",
    "    wrap_string = ''\n",
    "    while(len(string) > max_width):\n",
    "        wrap_string = wrap_string + string[:max_width]+'\\n'\n",
    "        string = string[max_width:]\n",
    "    return wrap_string + string\n",
    "\n",
    "if __name__ == '__main__':\n",
    "    string, max_width = input(), int(input())\n",
    "    result = wrap(string, max_width)\n",
    "    print(result)"
   ]
  },
  {
   "cell_type": "markdown",
   "id": "b077e8b3",
   "metadata": {},
   "source": [
    "### Designer Door Mat\n",
    "<a id='Designer Door Mat'></a>"
   ]
  },
  {
   "cell_type": "code",
   "execution_count": null,
   "id": "7a2e2920",
   "metadata": {
    "ExecuteTime": {
     "end_time": "2021-07-31T17:48:20.702626Z",
     "start_time": "2021-07-31T17:48:19.063201Z"
    }
   },
   "outputs": [],
   "source": [
    "length, width = map(int, input().strip().split())\n",
    "odd_numbers = [odd for odd in range(1, length, 2)]\n",
    "for num in odd_numbers:\n",
    "    print('-' * ((width - (3 * num)) // 2) + '.|.' * num + '-' * ((width - (3 * num)) // 2))\n",
    "    \n",
    "print('-' * ((width - 7) // 2) + 'WELCOME' + '-' * ((width - 7) // 2))\n",
    "        \n",
    "for num in reversed(odd_numbers):\n",
    "    print('-' * ((width - (3 * num)) // 2) + '.|.' * num + '-' * ((width - (3 * num)) // 2))"
   ]
  },
  {
   "cell_type": "markdown",
   "id": "bc03501a",
   "metadata": {},
   "source": [
    "### String Formatting\n",
    "<a id='String Formatting'></a>\n"
   ]
  },
  {
   "cell_type": "code",
   "execution_count": null,
   "id": "dcb02174",
   "metadata": {
    "ExecuteTime": {
     "end_time": "2021-07-31T19:16:00.964327Z",
     "start_time": "2021-07-31T19:15:58.523342Z"
    }
   },
   "outputs": [],
   "source": [
    "def print_formatted(number):\n",
    "    space_padded = len(bin(number)[2:])\n",
    "    for num in range(1, number + 1):\n",
    "        print(str(num).rjust(space_padded), oct(num)[2:].rjust(space_padded),\n",
    "              hex(num)[2:].upper().rjust(space_padded), bin(num)[2:].rjust(space_padded))\n",
    "        \n",
    "\n",
    "if __name__ == '__main__':\n",
    "    n = int(input())\n",
    "    print_formatted(n)"
   ]
  },
  {
   "cell_type": "markdown",
   "id": "8bb3d5fe",
   "metadata": {},
   "source": [
    "### Alphabet Rangoli\n",
    "<a id='Alphabet Rangoli'></a>"
   ]
  },
  {
   "cell_type": "code",
   "execution_count": null,
   "id": "eed1f597",
   "metadata": {
    "ExecuteTime": {
     "end_time": "2021-08-03T08:34:31.994954Z",
     "start_time": "2021-08-03T08:34:29.826779Z"
    }
   },
   "outputs": [],
   "source": [
    "def print_rangoli(size):\n",
    "    alphabet_string = ['a', 'b', 'c', 'd', 'e', 'f', 'g', 'h', 'i', 'j',\n",
    "     'k', 'l', 'm', 'n', 'o', 'p', 'q', 'r', 's', 't', 'u', 'v', 'w', 'x', 'y', 'z']\n",
    "    rows = (size * 2 - 1)\n",
    "    columns = (size * 2 - 1) + (size -1) * 2\n",
    "    # a list of characters count in each row\n",
    "    characters_count = list(range(1, rows + 1, 2))\n",
    "    # list of  the specific characters\n",
    "    alphabet_string = alphabet_string[:size]\n",
    "    alphabet_string.reverse()\n",
    "    alphabet = ''\n",
    "    rangoli = ''\n",
    "    for ch_num in characters_count:\n",
    "        line = []\n",
    "        for ch_index in range(ch_num):\n",
    "            if ch_index < ch_num // 2:\n",
    "                line.append(alphabet_string[ch_index])\n",
    "            else:\n",
    "                line.append(alphabet_string[ch_num-ch_index-1])\n",
    "        alphabet = '-'.join(line)\n",
    "        rangoli = rangoli + '-'*((columns - len(alphabet))//2) + alphabet + '-'*((columns - len(alphabet))//2) +'\\n'\n",
    "        \n",
    "    for ch_num in reversed(characters_count[:-1]):\n",
    "        line = []\n",
    "        for ch_index in range(ch_num):\n",
    "            if ch_index < ch_num // 2:\n",
    "                line.append(alphabet_string[ch_index])\n",
    "            else:\n",
    "                line.append(alphabet_string[ch_num-ch_index-1])\n",
    "        alphabet = '-'.join(line)\n",
    "        rangoli = rangoli + '-'*((columns - len(alphabet))//2) + alphabet + '-'*((columns - len(alphabet))//2) +'\\n' \n",
    "    \n",
    "    print(rangoli)\n",
    "if __name__ == '__main__':\n",
    "    n = int(input())\n",
    "    print_rangoli(n)"
   ]
  },
  {
   "cell_type": "markdown",
   "id": "4f572e9a",
   "metadata": {},
   "source": [
    "### Capitalize!\n",
    "\n",
    "<a id='Capitalize!'></a>\n"
   ]
  },
  {
   "cell_type": "code",
   "execution_count": null,
   "id": "05642cb3",
   "metadata": {
    "ExecuteTime": {
     "end_time": "2021-08-02T11:01:37.096609Z",
     "start_time": "2021-08-02T11:01:35.375204Z"
    }
   },
   "outputs": [],
   "source": [
    "#!/bin/python3\n",
    "\n",
    "import math\n",
    "import os\n",
    "import random\n",
    "import re\n",
    "import sys\n",
    "\n",
    "# Complete the solve function below.\n",
    "def solve(s):\n",
    "    return ' '.join(word.capitalize() for word in s.split(' '))\n",
    "    #return ' '.join(map(str.capitalize, s.split(' ')))\n",
    "\n",
    "\n",
    "if __name__ == '__main__':\n",
    "    fptr = open('passport_name.txt', 'w')\n",
    "\n",
    "    s = input()\n",
    "\n",
    "    result = solve(s)\n",
    "\n",
    "    fptr.write(result + '\\n')\n",
    "\n",
    "    fptr.close()\n"
   ]
  },
  {
   "cell_type": "markdown",
   "id": "255b4a38",
   "metadata": {},
   "source": [
    "### itertools.product()\n",
    "<a id='itertools.product()'></a>\n"
   ]
  },
  {
   "cell_type": "code",
   "execution_count": null,
   "id": "2597a235",
   "metadata": {
    "ExecuteTime": {
     "end_time": "2021-08-02T13:44:41.459508Z",
     "start_time": "2021-08-02T13:44:39.181945Z"
    }
   },
   "outputs": [],
   "source": [
    "from itertools import product\n",
    "A = sorted(list(set(map(int, input().strip().split()))))\n",
    "B = sorted(list(set(map(int, input().strip().split()))))\n",
    "cartesian_product = sorted(list(product(A, B)))\n",
    "print(' '.join([str(value) for value in cartesian_product]))"
   ]
  },
  {
   "cell_type": "markdown",
   "id": "e02d0762",
   "metadata": {},
   "source": [
    "### itertools.permutations()\n",
    "<a id='itertools.permutations()'></a>\n"
   ]
  },
  {
   "cell_type": "code",
   "execution_count": null,
   "id": "597c89e0",
   "metadata": {
    "ExecuteTime": {
     "end_time": "2021-08-04T13:08:24.980004Z",
     "start_time": "2021-08-04T13:08:22.837699Z"
    }
   },
   "outputs": [],
   "source": [
    "from itertools import permutations\n",
    "s, k = input().strip().split(' ')\n",
    "permutations = sorted(list(permutations(s.upper(), int(k))))\n",
    "for permutation in permutations:\n",
    "    print(''.join(permutation))"
   ]
  },
  {
   "cell_type": "markdown",
   "id": "6f163ee7",
   "metadata": {},
   "source": [
    "### Polar Coordinates\n",
    "<a id='Polar Coordinates'></a>\n"
   ]
  },
  {
   "cell_type": "code",
   "execution_count": null,
   "id": "35f4930f",
   "metadata": {
    "ExecuteTime": {
     "end_time": "2021-08-04T16:36:47.570646Z",
     "start_time": "2021-08-04T16:36:45.427792Z"
    }
   },
   "outputs": [],
   "source": [
    "from cmath import phase\n",
    "z = complex(input().strip())\n",
    "print(abs(z))\n",
    "print(phase(z))"
   ]
  },
  {
   "cell_type": "markdown",
   "id": "654f36ab",
   "metadata": {},
   "source": [
    "### Introduction to Sets\n",
    "<a id='Introduction to Sets'></a>\n"
   ]
  },
  {
   "cell_type": "code",
   "execution_count": null,
   "id": "dcf71891",
   "metadata": {
    "ExecuteTime": {
     "end_time": "2021-08-04T16:43:44.305537Z",
     "start_time": "2021-08-04T16:43:41.674473Z"
    }
   },
   "outputs": [],
   "source": [
    "def average(array):\n",
    "    return round(sum(set(array))/len(set(array)), 3)\n",
    "\n",
    "if __name__ == '__main__':\n",
    "    n = int(input())\n",
    "    arr = list(map(int, input().split()))\n",
    "    result = average(arr)\n",
    "    print(result)"
   ]
  },
  {
   "cell_type": "markdown",
   "id": "618f1a4a",
   "metadata": {},
   "source": [
    "<a id='DefaultDict Tutorial'></a>\n",
    "### DefaultDict Tutorial"
   ]
  },
  {
   "cell_type": "code",
   "execution_count": null,
   "id": "02e40a28",
   "metadata": {
    "ExecuteTime": {
     "end_time": "2021-08-04T21:47:18.564372Z",
     "start_time": "2021-08-04T21:46:56.471120Z"
    }
   },
   "outputs": [],
   "source": [
    "from collections import defaultdict\n",
    "n, m = map(int, input().strip().split())\n",
    "a_b_groups = defaultdict(list)\n",
    "for _ in range(n):\n",
    "    a_b_groups['A'].append(input().strip())\n",
    "for _ in range(m):\n",
    "    a_b_groups['B'].append(input().strip())\n",
    "    \n",
    "for word_b in a_b_groups['B']:\n",
    "    index = 0\n",
    "    if word_b in a_b_groups['A']:\n",
    "        for word_a in a_b_groups['A']:\n",
    "            if word_b == word_a:\n",
    "                index = a_b_groups['A'].index(word_b)\n",
    "                a_b_groups['A'][index] = a_b_groups['A'][index].upper()\n",
    "                print( index + 1, end = ' ')\n",
    "        print()\n",
    "    else:\n",
    "        print(-1)"
   ]
  },
  {
   "cell_type": "markdown",
   "id": "a9ce5ddb",
   "metadata": {
    "ExecuteTime": {
     "end_time": "2021-08-04T21:48:42.653306Z",
     "start_time": "2021-08-04T21:48:42.633319Z"
    }
   },
   "source": [
    "<a id='Calendar Module'></a>\n",
    "### Calendar Module"
   ]
  },
  {
   "cell_type": "code",
   "execution_count": null,
   "id": "04f597d4",
   "metadata": {
    "ExecuteTime": {
     "end_time": "2021-08-05T12:32:54.380863Z",
     "start_time": "2021-08-05T12:32:49.778514Z"
    }
   },
   "outputs": [],
   "source": [
    "import datetime\n",
    "import calendar\n",
    "month, day, year = input().strip().split()\n",
    "print(calendar.day_name[datetime.date(day=int(day), month=int(month), year=int(year)).weekday()].upper())"
   ]
  },
  {
   "cell_type": "markdown",
   "id": "65d9b583",
   "metadata": {},
   "source": [
    "### Exceptions\n",
    "<a id='Refer_to'></a>\n"
   ]
  },
  {
   "cell_type": "code",
   "execution_count": null,
   "id": "69069ae5",
   "metadata": {
    "ExecuteTime": {
     "end_time": "2021-08-05T13:10:55.867544Z",
     "start_time": "2021-08-05T13:10:55.812578Z"
    }
   },
   "outputs": [],
   "source": [
    "try:\n",
    "    print (1/0)\n",
    "except ZeroDivisionError as e:\n",
    "    print (\"Error Code:\",e)"
   ]
  },
  {
   "cell_type": "code",
   "execution_count": null,
   "id": "ce2321f1",
   "metadata": {
    "ExecuteTime": {
     "end_time": "2021-08-05T14:27:48.041359Z",
     "start_time": "2021-08-05T14:27:42.463553Z"
    }
   },
   "outputs": [],
   "source": [
    "num_cases = int(input().strip())\n",
    "test_cases = []\n",
    "for _ in range(num_cases):\n",
    "    test_cases.append(list(map(str, input().split())))\n",
    "    \n",
    "for case in test_cases:\n",
    "    try: \n",
    "        print(int(case[0])//int(case[1]))\n",
    "    except ZeroDivisionError:\n",
    "        print('Error Code:', 'integer division or modulo by zero')\n",
    "    except ValueError as e:\n",
    "        print('Error Code:', e)"
   ]
  },
  {
   "cell_type": "markdown",
   "id": "c77617db",
   "metadata": {},
   "source": [
    " <a id='Collections.namedtuple()'></a>\n",
    "### Collections.namedtuple()"
   ]
  },
  {
   "cell_type": "code",
   "execution_count": null,
   "id": "38e36126",
   "metadata": {
    "ExecuteTime": {
     "end_time": "2021-08-06T11:30:53.589020Z",
     "start_time": "2021-08-06T11:29:46.506204Z"
    }
   },
   "outputs": [],
   "source": [
    "from collections import namedtuple\n",
    "total_students, headers, total = int(input().strip()), input().strip().split(), 0\n",
    "student = namedtuple('student',headers)\n",
    "for _ in range(total_students):\n",
    "    student_data = student._make(input().strip().split())\n",
    "    total += int(student_data.MARKS)\n",
    "print(round(total/total_students, ndigits = 2))"
   ]
  },
  {
   "cell_type": "code",
   "execution_count": null,
   "id": "617f1511",
   "metadata": {
    "ExecuteTime": {
     "end_time": "2021-08-06T11:32:46.034677Z",
     "start_time": "2021-08-06T11:32:11.157742Z"
    }
   },
   "outputs": [],
   "source": [
    "N, headers, total = int(input()), list(input().split()), 0\n",
    "for _ in range(N):\n",
    "    total += int(list(input().split())[headers.index('MARKS')])\n",
    "print(total/N)"
   ]
  },
  {
   "cell_type": "markdown",
   "id": "7b319922",
   "metadata": {},
   "source": [
    "<a id='Collections.OrderedDict()'></a>\n",
    "### Collections.OrderedDict()"
   ]
  },
  {
   "cell_type": "code",
   "execution_count": null,
   "id": "3771bb18",
   "metadata": {
    "ExecuteTime": {
     "end_time": "2021-08-06T12:37:39.117083Z",
     "start_time": "2021-08-06T12:36:45.963194Z"
    }
   },
   "outputs": [],
   "source": [
    "from collections import OrderedDict\n",
    "num_items = int(input().strip())\n",
    "\n",
    "items_data = OrderedDict()\n",
    "for _ in range(num_items):\n",
    "    item_data = input().strip().split()\n",
    "    item = ' '.join(item_data[:-1])\n",
    "    price = int(item_data[-1])\n",
    "    if item in items_data:\n",
    "        items_data[item] += price\n",
    "    else:\n",
    "        items_data[item] = price\n",
    "for item, net_price in items_data.items():\n",
    "    print(item, net_price)"
   ]
  },
  {
   "cell_type": "markdown",
   "id": "e5c2b477",
   "metadata": {},
   "source": [
    "## 🏆 Gold Badge 🏆 "
   ]
  },
  {
   "cell_type": "markdown",
   "id": "fda50461",
   "metadata": {},
   "source": [
    "<a id='Symmetric Difference'></a>\n",
    "### Symmetric Difference"
   ]
  },
  {
   "cell_type": "code",
   "execution_count": null,
   "id": "f92e703a",
   "metadata": {
    "ExecuteTime": {
     "end_time": "2021-08-06T20:48:08.401230Z",
     "start_time": "2021-08-06T20:47:59.096879Z"
    }
   },
   "outputs": [],
   "source": [
    "M = input().strip()\n",
    "set1 = set(map(int, input().strip().split()))\n",
    "N = input().strip()\n",
    "set2 = set(map(int, input().strip().split()))\n",
    "symmetric_difference = set1.difference(set2)\n",
    "symmetric_difference.update(set2.difference(set1))\n",
    "\n",
    "for num in sorted(symmetric_difference):\n",
    "    print(num)"
   ]
  },
  {
   "cell_type": "markdown",
   "id": "2189e2ef",
   "metadata": {},
   "source": [
    "<a id='itertools.combinations()'></a>\n",
    "### itertools.combinations()"
   ]
  },
  {
   "cell_type": "code",
   "execution_count": null,
   "id": "ce1222dc",
   "metadata": {
    "ExecuteTime": {
     "end_time": "2021-08-08T16:45:01.136638Z",
     "start_time": "2021-08-08T16:44:58.359862Z"
    }
   },
   "outputs": [],
   "source": [
    "from itertools import combinations\n",
    "\n",
    "string, up_to = input().strip().split()\n",
    "\n",
    "for num in range(1, int(up_to)+1):\n",
    "    for chs in sorted(combinations(sorted(string.upper()), num)):\n",
    "        print(''.join(list(chs)))"
   ]
  },
  {
   "cell_type": "markdown",
   "id": "95e8417b",
   "metadata": {},
   "source": [
    "<a id='Incorrect Regex'></a>\n",
    "### Incorrect Regex"
   ]
  },
  {
   "cell_type": "code",
   "execution_count": null,
   "id": "1427f14b",
   "metadata": {
    "ExecuteTime": {
     "end_time": "2021-08-08T17:37:08.865835Z",
     "start_time": "2021-08-08T17:36:55.028229Z"
    }
   },
   "outputs": [],
   "source": [
    "import re\n",
    "num_cases = int(input().strip())\n",
    "is_regex = []\n",
    "for _ in range(num_cases):\n",
    "    case = input().strip()\n",
    "    try:\n",
    "        if re.compile(case):\n",
    "            is_regex.append(True)\n",
    "    except:\n",
    "        is_regex.append(False)\n",
    "for status in is_regex:\n",
    "    print(status)"
   ]
  },
  {
   "cell_type": "markdown",
   "id": "b285114b",
   "metadata": {},
   "source": [
    "<a id='Set .add()'></a>\n",
    "### Set .add()"
   ]
  },
  {
   "cell_type": "code",
   "execution_count": null,
   "id": "455bd2f1",
   "metadata": {
    "ExecuteTime": {
     "end_time": "2021-08-08T18:42:42.164898Z",
     "start_time": "2021-08-08T18:42:18.258628Z"
    }
   },
   "outputs": [],
   "source": [
    "num_stamps = int(input().strip())\n",
    "country_stamps = set()\n",
    "for _ in range(num_stamps):\n",
    "    country_stamps.add(input())\n",
    "print(len(country_stamps))"
   ]
  },
  {
   "cell_type": "markdown",
   "id": "40169651",
   "metadata": {
    "ExecuteTime": {
     "end_time": "2021-08-08T17:21:29.240696Z",
     "start_time": "2021-08-08T17:21:29.235697Z"
    }
   },
   "source": [
    "<a id='itertools.combinations_with_replacement()'></a>\n",
    "### itertools.combinations_with_replacement()"
   ]
  },
  {
   "cell_type": "code",
   "execution_count": null,
   "id": "dc7d0733",
   "metadata": {
    "ExecuteTime": {
     "end_time": "2021-08-08T18:58:46.363308Z",
     "start_time": "2021-08-08T18:58:45.329700Z"
    }
   },
   "outputs": [],
   "source": [
    "from itertools import combinations_with_replacement\n",
    "string, num = input().strip().split()\n",
    "for values in combinations_with_replacement(sorted(string.upper()), int(num)):\n",
    "        print(''.join(list(values)))"
   ]
  },
  {
   "cell_type": "markdown",
   "id": "89db5e45",
   "metadata": {},
   "source": [
    "### Set .discard(), .remove() & .pop()\n",
    "<a id='Set .discard(), .remove() & .pop()'></a>\n"
   ]
  },
  {
   "cell_type": "code",
   "execution_count": null,
   "id": "5417817e",
   "metadata": {
    "ExecuteTime": {
     "end_time": "2021-08-09T16:11:33.254085Z",
     "start_time": "2021-08-09T16:10:51.676816Z"
    }
   },
   "outputs": [],
   "source": [
    "elements_num = int(input().strip())\n",
    "elements = set(map(int, input().strip().split()))\n",
    "commands_num = int(input().strip())\n",
    "for _ in range(commands_num):\n",
    "    command = input().strip().split(' ')\n",
    "    if len(command) == 2:\n",
    "        if command[0] == 'remove':\n",
    "            elements.remove(int(command[1]))\n",
    "        elif command [0] == 'discard':\n",
    "            elements.discard(int(command[1]))\n",
    "    elif len(command) == 1:\n",
    "        if command[0] == 'pop':\n",
    "            elements.pop()\n",
    "print(sum(elements))"
   ]
  },
  {
   "cell_type": "markdown",
   "id": "0cac2af1",
   "metadata": {},
   "source": [
    "### Collections.deque()\n",
    "<a id='Collections.deque()'></a>"
   ]
  },
  {
   "cell_type": "code",
   "execution_count": null,
   "id": "828f00ab",
   "metadata": {
    "ExecuteTime": {
     "end_time": "2021-08-09T16:21:52.899357Z",
     "start_time": "2021-08-09T16:21:37.127422Z"
    }
   },
   "outputs": [],
   "source": [
    "from collections import deque\n",
    "ops_num = int(input().strip())\n",
    "d = deque()\n",
    "for _ in range(ops_num):\n",
    "    command = input().strip().split()\n",
    "    if command[0] == 'append':\n",
    "        d.append(int(command[1]))\n",
    "    elif command[0] == 'pop':\n",
    "        d.pop()\n",
    "    elif command[0] == 'popleft':\n",
    "        d.popleft()\n",
    "    elif command[0] == 'appendleft':\n",
    "        d.appendleft(int(command[1]))\n",
    "for value in d:\n",
    "    print(value, end = ' ')"
   ]
  },
  {
   "cell_type": "markdown",
   "id": "0d575fd0",
   "metadata": {},
   "source": [
    "### Set .union() Operation\n",
    "<a id='Set .union() Operation'></a>"
   ]
  },
  {
   "cell_type": "code",
   "execution_count": null,
   "id": "11d71a53",
   "metadata": {
    "ExecuteTime": {
     "end_time": "2021-08-09T17:32:06.752820Z",
     "start_time": "2021-08-09T17:31:54.801576Z"
    }
   },
   "outputs": [],
   "source": [
    "en_studs_num = int(input().strip())\n",
    "students_en = set(map(int, input().strip().split()))\n",
    "fr_studs_num = int(input().strip())\n",
    "students_fr = set(map(int, input().strip().split()))\n",
    "print(len(students_en | students_fr)) \n",
    "# print(len(students_en.union(students_fr)))"
   ]
  },
  {
   "cell_type": "markdown",
   "id": "20652710",
   "metadata": {},
   "source": [
    "<a id='Set .intersection() Operation'></a>\n",
    "### Set .intersection() Operation"
   ]
  },
  {
   "cell_type": "code",
   "execution_count": null,
   "id": "256dc787",
   "metadata": {
    "ExecuteTime": {
     "end_time": "2021-08-09T17:34:55.847393Z",
     "start_time": "2021-08-09T17:34:42.604733Z"
    }
   },
   "outputs": [],
   "source": [
    "en_studs_num = int(input().strip())\n",
    "students_en = set(map(int, input().strip().split()))\n",
    "fr_studs_num = int(input().strip())\n",
    "students_fr = set(map(int, input().strip().split()))\n",
    "print(len(students_en & students_fr)) \n",
    "# print(len(students_en.intersection(students_fr)))"
   ]
  },
  {
   "cell_type": "markdown",
   "id": "fe8a10d8",
   "metadata": {
    "ExecuteTime": {
     "end_time": "2021-08-09T17:35:41.774562Z",
     "start_time": "2021-08-09T17:35:41.756571Z"
    }
   },
   "source": [
    "<a id='Mod Divmod'></a>\n",
    "### Mod Divmod"
   ]
  },
  {
   "cell_type": "code",
   "execution_count": null,
   "id": "74a2aa67",
   "metadata": {
    "ExecuteTime": {
     "end_time": "2021-08-09T17:41:06.015539Z",
     "start_time": "2021-08-09T17:41:04.063580Z"
    }
   },
   "outputs": [],
   "source": [
    "a = int(input().strip())\n",
    "b = int(input().strip())\n",
    "int_div_modulo = divmod(a, b)\n",
    "for value in int_div_modulo:\n",
    "    print(value)\n",
    "print(int_div_modulo)"
   ]
  },
  {
   "cell_type": "markdown",
   "id": "c1169a1e",
   "metadata": {},
   "source": [
    "<a id='Power - Mod Power'></a>\n",
    "### Power - Mod Power"
   ]
  },
  {
   "cell_type": "code",
   "execution_count": null,
   "id": "80a05486",
   "metadata": {
    "ExecuteTime": {
     "end_time": "2021-08-09T17:45:19.974265Z",
     "start_time": "2021-08-09T17:45:13.213322Z"
    }
   },
   "outputs": [],
   "source": [
    "a = int(input().strip())\n",
    "b = int(input().strip())\n",
    "m = int(input().strip())\n",
    "print(pow(a, b))\n",
    "if b > 0:\n",
    "    print(pow(a, b, m))"
   ]
  },
  {
   "cell_type": "markdown",
   "id": "76927fde",
   "metadata": {},
   "source": [
    "<a id='Set .difference() Operation'></a>\n",
    "### Set .difference() Operation"
   ]
  },
  {
   "cell_type": "code",
   "execution_count": null,
   "id": "9fd1067f",
   "metadata": {
    "ExecuteTime": {
     "end_time": "2021-08-09T17:49:33.451737Z",
     "start_time": "2021-08-09T17:49:21.856963Z"
    }
   },
   "outputs": [],
   "source": [
    "en_studs_num = int(input().strip())\n",
    "students_en = set(map(int, input().strip().split()))\n",
    "fr_studs_num = int(input().strip())\n",
    "students_fr = set(map(int, input().strip().split()))\n",
    "print(len(students_en.difference(students_fr))) \n",
    "# print(len(students_en - students_fr))"
   ]
  },
  {
   "cell_type": "markdown",
   "id": "8ff8248e",
   "metadata": {},
   "source": [
    "<a id='Integers Come In All Sizes'></a>\n",
    "### Integers Come In All Sizes"
   ]
  },
  {
   "cell_type": "code",
   "execution_count": null,
   "id": "6b267e5c",
   "metadata": {
    "ExecuteTime": {
     "end_time": "2021-08-09T17:53:32.123188Z",
     "start_time": "2021-08-09T17:53:27.938293Z"
    }
   },
   "outputs": [],
   "source": [
    "a = int(input().strip())\n",
    "b = int(input().strip())\n",
    "c = int(input().strip())\n",
    "d = int(input().strip())\n",
    "print(pow(a, b) + pow(c, d))"
   ]
  },
  {
   "cell_type": "markdown",
   "id": "6e79b025",
   "metadata": {},
   "source": [
    "<a id='Set .symmetric_difference() Operation'></a>\n",
    "### Set .symmetric_difference() Operation"
   ]
  },
  {
   "cell_type": "code",
   "execution_count": null,
   "id": "d74cece9",
   "metadata": {
    "ExecuteTime": {
     "end_time": "2021-08-09T17:56:18.698369Z",
     "start_time": "2021-08-09T17:55:55.398068Z"
    }
   },
   "outputs": [],
   "source": [
    "en_studs_num = int(input().strip())\n",
    "students_en = set(map(int, input().strip().split()))\n",
    "fr_studs_num = int(input().strip())\n",
    "students_fr = set(map(int, input().strip().split()))\n",
    "print(len(students_en.symmetric_difference(students_fr))) \n",
    "# print(len(students_en ^ students_fr))"
   ]
  },
  {
   "cell_type": "markdown",
   "id": "90647b56",
   "metadata": {},
   "source": [
    "<a id='Set Mutations'></a>\n",
    "### Set Mutations"
   ]
  },
  {
   "cell_type": "code",
   "execution_count": null,
   "id": "cb995049",
   "metadata": {
    "ExecuteTime": {
     "end_time": "2021-08-09T18:13:54.473869Z",
     "start_time": "2021-08-09T18:13:09.705194Z"
    }
   },
   "outputs": [],
   "source": [
    "num_elements = int(input().strip())\n",
    "elements = set(map(int, input().strip().split()))\n",
    "\n",
    "num_sets = int(input().strip())\n",
    "\n",
    "for _ in range(num_sets):\n",
    "    command = input().split()\n",
    "    eles = set(map(int, input().strip().split()))\n",
    "    if command[0] == 'update':\n",
    "        elements.update(eles)\n",
    "    elif command[0] == 'difference_update':\n",
    "        elements.difference_update(eles)\n",
    "    elif command[0] == 'symmetric_difference_update':\n",
    "        elements.symmetric_difference_update(eles)\n",
    "    elif command[0] == 'intersection_update':\n",
    "        elements.intersection_update(eles)\n",
    "               \n",
    "print(sum(elements))"
   ]
  },
  {
   "cell_type": "markdown",
   "id": "eb95c6d5",
   "metadata": {},
   "source": [
    "<a id=\"The Captain's Room\"></a>\n",
    "### The Captain's Room"
   ]
  },
  {
   "cell_type": "code",
   "execution_count": null,
   "id": "5379e4c4",
   "metadata": {
    "ExecuteTime": {
     "end_time": "2021-08-16T18:33:17.623152Z",
     "start_time": "2021-08-16T18:32:52.583079Z"
    }
   },
   "outputs": [],
   "source": [
    "groups_size, room_numbers, single, multiple = input(), input().split(), set(), set()\n",
    "for room in room_numbers:\n",
    "    if room not in single:\n",
    "        single.add(room)\n",
    "    else:\n",
    "        multiple.add(room)\n",
    "print(single.difference(multiple).pop())"
   ]
  },
  {
   "cell_type": "markdown",
   "id": "42ab633b",
   "metadata": {},
   "source": [
    "<a id='Check Subset'></a>\n",
    "### Check Subset"
   ]
  },
  {
   "cell_type": "code",
   "execution_count": null,
   "id": "b2c5a50a",
   "metadata": {
    "ExecuteTime": {
     "end_time": "2021-08-21T20:35:14.020772Z",
     "start_time": "2021-08-21T20:34:37.135471Z"
    }
   },
   "outputs": [],
   "source": [
    "n_test_cases = int(input())\n",
    "is_subset = []\n",
    "for _ in range(n_test_cases):\n",
    "    n_eles_A = input()\n",
    "    A = set(map(int, input().split(' ')))\n",
    "    n_eles_B = input()\n",
    "    B = set(map(int, input().split(' ')))\n",
    "    if A.issubset(B):\n",
    "        is_subset.append(True)\n",
    "    else:\n",
    "        is_subset.append(False)\n",
    "for condition in is_subset:\n",
    "    print(condition)"
   ]
  },
  {
   "cell_type": "markdown",
   "id": "87be85b6",
   "metadata": {},
   "source": [
    "<a id='Check Strict Superset'></a>\n",
    "### Check Strict Superset"
   ]
  },
  {
   "cell_type": "code",
   "execution_count": null,
   "id": "b4917ef6",
   "metadata": {
    "ExecuteTime": {
     "end_time": "2021-08-21T23:34:05.613514Z",
     "start_time": "2021-08-21T23:34:00.037210Z"
    }
   },
   "outputs": [],
   "source": [
    "A = set(map(int, input().strip().split(' ')))\n",
    "n_sets = int(input().strip())\n",
    "is_strict_superset = False\n",
    "for _ in range(n_sets):\n",
    "    test_set = set(map(int, input().split(' ')))\n",
    "    if A.issuperset(test_set) and len(A) > len(test_set):\n",
    "        is_strict_superset = True\n",
    "    else:\n",
    "        is_strict_superset = False\n",
    "        break\n",
    "print(is_strict_superset)"
   ]
  },
  {
   "cell_type": "markdown",
   "id": "047cae1e",
   "metadata": {},
   "source": [
    "<a id='Zipped!'></a>\n",
    "### Zipped!"
   ]
  },
  {
   "cell_type": "code",
   "execution_count": null,
   "id": "9c55d379",
   "metadata": {
    "ExecuteTime": {
     "end_time": "2021-08-21T23:59:14.624152Z",
     "start_time": "2021-08-21T23:58:34.310769Z"
    }
   },
   "outputs": [],
   "source": [
    "n_students, n_subjects = input().strip().split(' ')\n",
    "students_scores = []\n",
    "for _ in range(int(n_subjects)):\n",
    "    students_scores.append(tuple(map(float, input().strip().split())))\n",
    "for student_scores in zip(*students_scores):\n",
    "    print(round(sum(student_scores)/len(student_scores), ndigits=1))"
   ]
  },
  {
   "cell_type": "markdown",
   "id": "f1559980",
   "metadata": {},
   "source": [
    "<a id='Input()'></a>\n",
    "### Input()"
   ]
  },
  {
   "cell_type": "code",
   "execution_count": null,
   "id": "d35531a7",
   "metadata": {
    "ExecuteTime": {
     "end_time": "2021-08-22T01:02:50.525811Z",
     "start_time": "2021-08-22T01:02:43.159756Z"
    }
   },
   "outputs": [],
   "source": [
    "x, k = input().strip().split()\n",
    "x, k = int(x), float(k)\n",
    "if eval(input()) == k:\n",
    "    print(True)\n",
    "else:\n",
    "    print(False)"
   ]
  },
  {
   "cell_type": "markdown",
   "id": "432ffa7f",
   "metadata": {},
   "source": [
    "<a id='Python Evaluation'></a>\n",
    "### Python Evaluation"
   ]
  },
  {
   "cell_type": "code",
   "execution_count": null,
   "id": "613ddc65",
   "metadata": {
    "ExecuteTime": {
     "end_time": "2021-08-30T13:25:01.941176Z",
     "start_time": "2021-08-30T13:24:58.104794Z"
    }
   },
   "outputs": [],
   "source": [
    "var = input().strip()\n",
    "if eval(var) != None: #  Here the result of print(2 + 5) is displayed\n",
    "    print(eval(var))  # In the case of a function returns 'None' as 'print' function, this line is not executed."
   ]
  },
  {
   "cell_type": "markdown",
   "id": "0d886bcd",
   "metadata": {},
   "source": [
    "<a id='Any or All'></a>\n",
    "### Any or All"
   ]
  },
  {
   "cell_type": "code",
   "execution_count": null,
   "id": "7004b410",
   "metadata": {
    "ExecuteTime": {
     "end_time": "2021-09-13T23:51:46.289719Z",
     "start_time": "2021-09-13T23:51:37.934239Z"
    }
   },
   "outputs": [],
   "source": [
    "list_size, list_of_integers = int(input().strip()), input().strip().split()\n",
    "print(all([int(val) > 0 for val in list_of_integers]) & any(s == s[::-1] for s in list_of_integers))"
   ]
  },
  {
   "cell_type": "markdown",
   "id": "8ab858f9",
   "metadata": {},
   "source": [
    "<a id='Detect Floating Point Number'></a>\n",
    "### Detect Floating Point Number"
   ]
  },
  {
   "cell_type": "code",
   "execution_count": null,
   "id": "44e2dcd0",
   "metadata": {
    "ExecuteTime": {
     "end_time": "2021-09-14T21:55:54.878572Z",
     "start_time": "2021-09-14T21:55:36.364832Z"
    }
   },
   "outputs": [],
   "source": [
    "is_float = []\n",
    "n_tests = int(input().strip())\n",
    "for _ in range(n_tests):\n",
    "    try:\n",
    "        num = input().strip()\n",
    "        int(num.split('.')[1]) # Check for that the number must contain at least 1 decimal value.\n",
    "        if float(num):\n",
    "            is_float.append(True)\n",
    "        else:\n",
    "            is_float.append(False)\n",
    "    except:\n",
    "        is_float.append(False)\n",
    "for condition in is_float:\n",
    "    print(condition)"
   ]
  },
  {
   "cell_type": "markdown",
   "id": "1ca6ba73",
   "metadata": {},
   "source": [
    "<a id='Map and Lambda Function'></a>\n",
    "### Map and Lambda Function"
   ]
  },
  {
   "cell_type": "code",
   "execution_count": null,
   "id": "08e00e64",
   "metadata": {
    "ExecuteTime": {
     "end_time": "2021-09-14T22:44:05.442123Z",
     "start_time": "2021-09-14T22:44:04.991899Z"
    }
   },
   "outputs": [],
   "source": [
    "num = int(input())\n",
    "\n",
    "for n in range(2, num):\n",
    "    val1, val2 = n-1, n-2\n",
    "    fibonacci_numbers.append(fibonacci_numbers[val1] + fibonacci_numbers[val2])\n",
    "print(list(map(lambda x:x**3, fibonacci_numbers)))"
   ]
  },
  {
   "cell_type": "code",
   "execution_count": null,
   "id": "66c76ca7",
   "metadata": {
    "ExecuteTime": {
     "end_time": "2021-09-14T23:06:47.552114Z",
     "start_time": "2021-09-14T23:06:47.302970Z"
    }
   },
   "outputs": [],
   "source": [
    "cube = lambda x: pow(x, 3)\n",
    "def fibonacci(n):\n",
    "    fibonacci_numbers = [0, 1]\n",
    "    for idx in range(2, n):\n",
    "        fibonacci_numbers.append(fibonacci_numbers[idx-1] + fibonacci_numbers[idx-2])\n",
    "    return fibonacci_numbers[0:n]\n",
    "\n",
    "if __name__ == '__main__':\n",
    "    n = int(input())\n",
    "    print(list(map(cube, fibonacci(n))))"
   ]
  },
  {
   "cell_type": "markdown",
   "id": "da1e558a",
   "metadata": {
    "ExecuteTime": {
     "end_time": "2021-09-14T23:06:39.420254Z",
     "start_time": "2021-09-14T23:06:39.404263Z"
    }
   },
   "source": [
    "<a id='Re.split()'></a>\n",
    "### Re.split()"
   ]
  },
  {
   "cell_type": "markdown",
   "id": "5a8a7a80",
   "metadata": {},
   "source": [
    "[Python RegEx](https://www.w3schools.com/python/python_regex.asp)"
   ]
  },
  {
   "cell_type": "code",
   "execution_count": 112,
   "id": "3da4db68",
   "metadata": {
    "ExecuteTime": {
     "end_time": "2021-09-14T23:16:16.281594Z",
     "start_time": "2021-09-14T23:16:11.727614Z"
    }
   },
   "outputs": [
    {
     "name": "stdout",
     "output_type": "stream",
     "text": [
      "100,100.000\n",
      "100\n",
      "100\n",
      "000\n"
     ]
    }
   ],
   "source": [
    "regex_pattern = r\"\\D+\"    # Do not delete 'r'.\n",
    "\n",
    "import re\n",
    "print(\"\\n\".join(re.split(regex_pattern, input())))"
   ]
  },
  {
   "cell_type": "markdown",
   "id": "d98f5580",
   "metadata": {},
   "source": [
    "<a id='Group(), Groups() & Groupdict()'></a>\n",
    "### Group(), Groups() & Groupdict()"
   ]
  },
  {
   "cell_type": "code",
   "execution_count": 1,
   "id": "4c5cc59e",
   "metadata": {
    "ExecuteTime": {
     "end_time": "2021-10-17T19:24:37.599920Z",
     "start_time": "2021-10-17T19:23:38.141759Z"
    }
   },
   "outputs": [
    {
     "name": "stdout",
     "output_type": "stream",
     "text": [
      "..12345678910111213141516171820212223\n",
      "1\n"
     ]
    }
   ],
   "source": [
    "# Solution from Discussions\n",
    "import re\n",
    "S=input()\n",
    "m=re.search(r'((\\w(?!_))\\2{1,})',S)\n",
    "print(S[m.start()] if m else '-1')"
   ]
  },
  {
   "cell_type": "markdown",
   "id": "d03ffdac",
   "metadata": {},
   "source": [
    "<a id='Re.findall() & Re.finditer()'></a>\n",
    "### Re.findall() & Re.finditer()"
   ]
  },
  {
   "cell_type": "code",
   "execution_count": 2,
   "id": "b30c110b",
   "metadata": {
    "ExecuteTime": {
     "end_time": "2021-10-17T19:25:18.138642Z",
     "start_time": "2021-10-17T19:25:08.768572Z"
    }
   },
   "outputs": [
    {
     "name": "stdout",
     "output_type": "stream",
     "text": [
      "rabcdeefgyYhFjkIoomnpOeorteeeeet\n",
      "ee\n",
      "Ioo\n",
      "Oeo\n",
      "eeeee\n"
     ]
    }
   ],
   "source": [
    "# Solution from Discussions\n",
    "import re\n",
    "v = \"aeiou\"\n",
    "c = \"qwrtypsdfghjklzxcvbnm\"\n",
    "m = re.findall(r\"(?<=[%s])([%s]{2,})[%s]\" % (c, v, c), input(), flags = re.I)\n",
    "print('\\n'.join(m or ['-1']))"
   ]
  },
  {
   "cell_type": "markdown",
   "id": "6fe5282f",
   "metadata": {},
   "source": [
    "<a id='Validating Roman Numerals'></a>\n",
    "### Validating Roman Numerals"
   ]
  },
  {
   "cell_type": "code",
   "execution_count": 3,
   "id": "4514d4cb",
   "metadata": {
    "ExecuteTime": {
     "end_time": "2021-10-17T19:25:32.395516Z",
     "start_time": "2021-10-17T19:25:30.077735Z"
    }
   },
   "outputs": [
    {
     "name": "stdout",
     "output_type": "stream",
     "text": [
      "CDXXI\n",
      "True\n"
     ]
    }
   ],
   "source": [
    "# Solution from Discussions\n",
    "regex_pattern =r'^M{,3}(C(D|M)|D?C{,3})(X(L|C)|L?X{,3})(I(X|V)|(X|V)?I{,3})$' \n",
    "import re\n",
    "print(str(bool(re.match(regex_pattern, input()))))"
   ]
  },
  {
   "cell_type": "markdown",
   "id": "8c9bb2e5",
   "metadata": {},
   "source": [
    "<a id='Validating phone numbers'></a>\n",
    "### Validating phone numbers"
   ]
  },
  {
   "cell_type": "code",
   "execution_count": 7,
   "id": "629ed747",
   "metadata": {
    "ExecuteTime": {
     "end_time": "2021-10-17T19:40:27.583473Z",
     "start_time": "2021-10-17T19:40:18.331049Z"
    }
   },
   "outputs": [
    {
     "name": "stdout",
     "output_type": "stream",
     "text": [
      "2\n",
      "9587456281\n",
      "YES\n",
      "1252478965\n",
      "NO\n"
     ]
    }
   ],
   "source": [
    "# Solution from Discussions\n",
    "import re\n",
    "N=int(input())\n",
    "for i in range(N):\n",
    "    if re.match(r'[789]\\d{9}$',input()):   \n",
    "        print('YES')  \n",
    "    else:  \n",
    "        print('NO')  "
   ]
  },
  {
   "cell_type": "markdown",
   "id": "950df5e9",
   "metadata": {},
   "source": [
    "<a id='Validating and Parsing Email Addresses'></a>\n",
    "### Validating and Parsing Email Addresses"
   ]
  },
  {
   "cell_type": "code",
   "execution_count": 9,
   "id": "f99ec9d3",
   "metadata": {
    "ExecuteTime": {
     "end_time": "2021-10-17T19:49:36.654599Z",
     "start_time": "2021-10-17T19:49:19.747397Z"
    }
   },
   "outputs": [
    {
     "name": "stdout",
     "output_type": "stream",
     "text": [
      "2\n",
      "DEXTER <dexter@hotmail.com>\n",
      "DEXTER <dexter@hotmail.com>\n",
      "VIRUS <virus!@variable.:p>\n"
     ]
    }
   ],
   "source": [
    "import email.utils\n",
    "import re\n",
    "\n",
    "def main():\n",
    "    pattern = re.compile(r\"^[a-zA-Z][\\w\\-.]*@[a-zA-Z]+\\.[a-zA-Z]{1,3}$\")\n",
    "    for _ in range(int(input())):\n",
    "        u_name, u_email = email.utils.parseaddr(input())\n",
    "        if pattern.match(u_email):\n",
    "              print(email.utils.formataddr((u_name, u_email)))\n",
    "\n",
    "if __name__ == \"__main__\":\n",
    "    main()"
   ]
  },
  {
   "cell_type": "markdown",
   "id": "f66e7361",
   "metadata": {},
   "source": [
    "<a id='Validating UID'></a>\n",
    "### Validating UID"
   ]
  },
  {
   "cell_type": "code",
   "execution_count": 19,
   "id": "36d4685b",
   "metadata": {
    "ExecuteTime": {
     "end_time": "2021-10-17T20:17:51.936894Z",
     "start_time": "2021-10-17T20:17:42.572976Z"
    }
   },
   "outputs": [
    {
     "name": "stdout",
     "output_type": "stream",
     "text": [
      "2\n",
      "B1CD102354\n",
      "Invalid\n",
      "B1CDEF2354\n",
      "Valid\n"
     ]
    }
   ],
   "source": [
    "n_test = int(input().strip())\n",
    "for _ in range(n_test):\n",
    "    ID = input().strip()\n",
    "    count_uppercase = 0\n",
    "    count_digits = 0\n",
    "    no_repeat = False\n",
    "    if len(ID) == 10 and ID.isalnum():\n",
    "        for ch in ID:\n",
    "            if ID.count(ch) == 1:\n",
    "                no_repeat = True\n",
    "                if ch.isupper():\n",
    "                    count_uppercase +=1\n",
    "                elif ch.isdigit():\n",
    "                    count_digits += 1\n",
    "            else:\n",
    "                no_repeat = False\n",
    "                break\n",
    "                \n",
    "        if count_uppercase >= 2 and count_digits >= 3 and no_repeat:\n",
    "            print('Valid')\n",
    "        else:\n",
    "            print('Invalid')\n",
    "    else:\n",
    "        print('Invalid')"
   ]
  },
  {
   "cell_type": "markdown",
   "id": "e1f1c800",
   "metadata": {},
   "source": [
    "<a id='Arrays'></a>\n",
    "### Arrays"
   ]
  },
  {
   "cell_type": "code",
   "execution_count": 8,
   "id": "16252ee0",
   "metadata": {
    "ExecuteTime": {
     "end_time": "2021-11-02T18:16:31.573092Z",
     "start_time": "2021-11-02T18:16:29.715233Z"
    }
   },
   "outputs": [
    {
     "name": "stdout",
     "output_type": "stream",
     "text": [
      "1 2 3 4 -8 -10\n",
      "[-10.  -8.   4.   3.   2.   1.]\n"
     ]
    }
   ],
   "source": [
    "import numpy\n",
    "\n",
    "def arrays(arr):\n",
    "    return numpy.array(arr, float)[::-1]\n",
    "\n",
    "arr = input().strip().split(' ')\n",
    "result = arrays(arr)\n",
    "print(result)"
   ]
  },
  {
   "cell_type": "markdown",
   "id": "d75c47c2",
   "metadata": {},
   "source": [
    "<a id='Shape and Reshape'></a>\n",
    "### Shape and Reshape"
   ]
  },
  {
   "cell_type": "code",
   "execution_count": 13,
   "id": "7850195c",
   "metadata": {
    "ExecuteTime": {
     "end_time": "2021-11-02T19:16:39.682713Z",
     "start_time": "2021-11-02T19:16:37.627981Z"
    }
   },
   "outputs": [
    {
     "name": "stdout",
     "output_type": "stream",
     "text": [
      "1 2 3 4 5 6 7 8 9\n",
      "[[1 2 3]\n",
      " [4 5 6]\n",
      " [7 8 9]]\n"
     ]
    }
   ],
   "source": [
    "import numpy\n",
    "arr = input().strip().split(' ')\n",
    "arr = numpy.array(arr, int).reshape((3, 3))\n",
    "\n",
    "print(arr)"
   ]
  },
  {
   "cell_type": "markdown",
   "id": "bdff09cf",
   "metadata": {
    "ExecuteTime": {
     "end_time": "2021-07-27T16:11:37.649111Z",
     "start_time": "2021-07-27T16:11:37.636117Z"
    }
   },
   "source": [
    "<a id='Transpose and Flatten'></a>\n",
    "### Transpose and Flatten"
   ]
  },
  {
   "cell_type": "code",
   "execution_count": 22,
   "id": "1ad85523",
   "metadata": {
    "ExecuteTime": {
     "end_time": "2021-11-02T19:24:40.040552Z",
     "start_time": "2021-11-02T19:24:30.132662Z"
    }
   },
   "outputs": [
    {
     "name": "stdout",
     "output_type": "stream",
     "text": [
      "2 2\n",
      "1 2\n",
      "3 4\n",
      "[[1 3]\n",
      " [2 4]]\n",
      "[1 2 3 4]\n"
     ]
    }
   ],
   "source": [
    "import numpy\n",
    "rows, cols = map(int, input().strip().split())\n",
    "lst = []\n",
    "for _ in range(rows):\n",
    "    lst += map(int, input().strip().split())\n",
    "arr = numpy.array(lst).reshape((rows, cols))\n",
    "print(arr.transpose())\n",
    "print(arr.flatten())"
   ]
  },
  {
   "cell_type": "markdown",
   "id": "c5c77a8c",
   "metadata": {},
   "source": [
    "<a id='Concatenate'></a>\n",
    "### Concatenate"
   ]
  },
  {
   "cell_type": "code",
   "execution_count": 23,
   "id": "893cff44",
   "metadata": {
    "ExecuteTime": {
     "end_time": "2021-11-02T19:31:54.983416Z",
     "start_time": "2021-11-02T19:31:28.058020Z"
    }
   },
   "outputs": [
    {
     "name": "stdout",
     "output_type": "stream",
     "text": [
      "4 3 2\n",
      "1 2\n",
      "1 2\n",
      "1 2\n",
      "1 2\n",
      "3 4\n",
      "3 4\n",
      "3 4\n",
      "[[1 2]\n",
      " [1 2]\n",
      " [1 2]\n",
      " [1 2]\n",
      " [3 4]\n",
      " [3 4]\n",
      " [3 4]]\n"
     ]
    }
   ],
   "source": [
    "import numpy\n",
    "rows1, rows2, cols = map(int, input().strip().split())\n",
    "arr1 = []\n",
    "for _ in range(rows1):\n",
    "    arr1 += map(int, input().strip().split())\n",
    "arr1 = numpy.array(arr1).reshape(rows1, cols)\n",
    "\n",
    "arr2 = []\n",
    "for _ in range(rows2):\n",
    "    arr2 += map(int, input().strip().split())\n",
    "arr2 = numpy.array(arr2).reshape(rows2, cols)\n",
    "\n",
    "print(numpy.concatenate((arr1, arr2), axis = 0))"
   ]
  },
  {
   "cell_type": "markdown",
   "id": "4cc87818",
   "metadata": {},
   "source": [
    "<a id='Zeros and Ones'></a>\n",
    "### Zeros and Ones"
   ]
  },
  {
   "cell_type": "code",
   "execution_count": 30,
   "id": "2ed8e83f",
   "metadata": {
    "ExecuteTime": {
     "end_time": "2021-11-02T19:42:24.067341Z",
     "start_time": "2021-11-02T19:42:20.848327Z"
    }
   },
   "outputs": [
    {
     "name": "stdout",
     "output_type": "stream",
     "text": [
      "3 3 3\n",
      "[[[0 0 0]\n",
      "  [0 0 0]\n",
      "  [0 0 0]]\n",
      "\n",
      " [[0 0 0]\n",
      "  [0 0 0]\n",
      "  [0 0 0]]\n",
      "\n",
      " [[0 0 0]\n",
      "  [0 0 0]\n",
      "  [0 0 0]]]\n",
      "[[[1 1 1]\n",
      "  [1 1 1]\n",
      "  [1 1 1]]\n",
      "\n",
      " [[1 1 1]\n",
      "  [1 1 1]\n",
      "  [1 1 1]]\n",
      "\n",
      " [[1 1 1]\n",
      "  [1 1 1]\n",
      "  [1 1 1]]]\n"
     ]
    }
   ],
   "source": [
    "import numpy\n",
    "shape = tuple(map(int, input().strip().split()))\n",
    "print(numpy.zeros(shape, int), numpy.ones(shape, int), sep='\\n')"
   ]
  },
  {
   "cell_type": "markdown",
   "id": "b073e6de",
   "metadata": {},
   "source": [
    "<a id='Eye and Identity'></a>\n",
    "### Eye and Identity"
   ]
  },
  {
   "cell_type": "code",
   "execution_count": 38,
   "id": "aa7f0f8d",
   "metadata": {
    "ExecuteTime": {
     "end_time": "2021-11-02T19:55:18.420671Z",
     "start_time": "2021-11-02T19:55:15.913219Z"
    }
   },
   "outputs": [
    {
     "name": "stdout",
     "output_type": "stream",
     "text": [
      "3 3\n",
      "[[ 1.  0.  0.]\n",
      " [ 0.  1.  0.]\n",
      " [ 0.  0.  1.]]\n"
     ]
    }
   ],
   "source": [
    "import numpy\n",
    "numpy.set_printoptions(legacy='1.13')\n",
    "shape = tuple(map(int, input().strip().split()))\n",
    "eye_arr = numpy.eye(*shape)\n",
    "print(eye_arr)"
   ]
  },
  {
   "cell_type": "markdown",
   "id": "08a190d7",
   "metadata": {},
   "source": [
    "<a id='Array Mathematics'></a>\n",
    "### Array Mathematics"
   ]
  },
  {
   "cell_type": "code",
   "execution_count": 7,
   "id": "8d0e5a32",
   "metadata": {
    "ExecuteTime": {
     "end_time": "2021-11-03T18:18:47.036377Z",
     "start_time": "2021-11-03T18:18:40.673762Z"
    }
   },
   "outputs": [
    {
     "name": "stdout",
     "output_type": "stream",
     "text": [
      "1 4\n",
      "1 2 3 4\n",
      "5 6 7 8\n",
      "[[ 6  8 10 12]]\n",
      "[[-4 -4 -4 -4]]\n",
      "[[ 5 12 21 32]]\n",
      "[[0 0 0 0]]\n",
      "[[1 2 3 4]]\n",
      "[[    1    64  2187 65536]]\n"
     ]
    }
   ],
   "source": [
    "import numpy as np\n",
    "rows, cols = map(int, input().strip().split())\n",
    "arr1 = []\n",
    "for _ in range(rows):\n",
    "    arr1 += input().strip().split()\n",
    "arr1 = np.array(arr1, int).reshape((rows, cols))\n",
    "\n",
    "arr2 = []\n",
    "for _ in range(rows):\n",
    "    arr2 += input().strip().split()\n",
    "arr2 = np.array(arr2, int).reshape((rows, cols))\n",
    "\n",
    "print(arr1 + arr2)\n",
    "print(arr1 - arr2)\n",
    "print(arr1 * arr2)\n",
    "print(arr1 // arr2)\n",
    "print(arr1 % arr2)\n",
    "print(arr1**arr2)"
   ]
  },
  {
   "cell_type": "markdown",
   "id": "7799f48f",
   "metadata": {},
   "source": [
    "<a id='Floor, Ceil and Rint'></a>\n",
    "### Floor, Ceil and Rint"
   ]
  },
  {
   "cell_type": "code",
   "execution_count": 11,
   "id": "19fc7812",
   "metadata": {
    "ExecuteTime": {
     "end_time": "2021-11-03T18:24:17.392012Z",
     "start_time": "2021-11-03T18:24:16.187351Z"
    }
   },
   "outputs": [
    {
     "name": "stdout",
     "output_type": "stream",
     "text": [
      "1.1 2.2 3.3 4.4 5.5 6.6 7.7 8.8 9.9\n",
      "[ 1.  2.  3.  4.  5.  6.  7.  8.  9.]\n",
      "[  2.   3.   4.   5.   6.   7.   8.   9.  10.]\n",
      "[  1.   2.   3.   4.   6.   7.   8.   9.  10.]\n"
     ]
    }
   ],
   "source": [
    "import numpy as np\n",
    "np.set_printoptions(legacy='1.13')\n",
    "arr = np.array(list(map(float, input().strip().split())))\n",
    "print(np.floor(arr))\n",
    "print(np.ceil(arr))\n",
    "print(np.rint(arr))"
   ]
  },
  {
   "cell_type": "markdown",
   "id": "2f030f2a",
   "metadata": {
    "ExecuteTime": {
     "end_time": "2021-11-03T19:02:44.873750Z",
     "start_time": "2021-11-03T19:02:44.866754Z"
    }
   },
   "source": [
    "<a id='Sum and Prod'></a>\n",
    "### Sum and Prod"
   ]
  },
  {
   "cell_type": "code",
   "execution_count": 14,
   "id": "88fde2b1",
   "metadata": {
    "ExecuteTime": {
     "end_time": "2021-11-03T19:05:50.746431Z",
     "start_time": "2021-11-03T19:05:47.563470Z"
    }
   },
   "outputs": [
    {
     "name": "stdout",
     "output_type": "stream",
     "text": [
      "2 2\n",
      "1 2\n",
      "3 4\n",
      "24\n"
     ]
    }
   ],
   "source": [
    "import numpy as np\n",
    "rows, cols = map(int, input().strip().split())\n",
    "arr1 = []\n",
    "for _ in range(rows):\n",
    "    arr1 += input().strip().split()\n",
    "arr1 = np.array(arr1, int).reshape((rows, cols))\n",
    "print(np.prod(np.sum(arr1, axis=0)))"
   ]
  },
  {
   "cell_type": "markdown",
   "id": "9f2669c1",
   "metadata": {},
   "source": [
    "<a id='Min and Max'></a>\n",
    "### Min and Max"
   ]
  },
  {
   "cell_type": "code",
   "execution_count": 15,
   "id": "68ab869f",
   "metadata": {
    "ExecuteTime": {
     "end_time": "2021-11-03T19:08:31.602112Z",
     "start_time": "2021-11-03T19:07:49.195232Z"
    }
   },
   "outputs": [
    {
     "name": "stdout",
     "output_type": "stream",
     "text": [
      "4 2\n",
      "2 5\n",
      "3 7\n",
      "1 3\n",
      "4 0\n",
      "3\n"
     ]
    }
   ],
   "source": [
    "import numpy as np\n",
    "rows, cols = map(int, input().strip().split())\n",
    "arr1 = []\n",
    "for _ in range(rows):\n",
    "    arr1 += input().strip().split()\n",
    "arr1 = np.array(arr1, int).reshape((rows, cols))\n",
    "print(np.max(np.min(arr1, axis=1)))"
   ]
  },
  {
   "cell_type": "markdown",
   "id": "b4d87c89",
   "metadata": {},
   "source": [
    "<a id='Mean, Var, and Std'></a>\n",
    "### Mean, Var, and Std"
   ]
  },
  {
   "cell_type": "code",
   "execution_count": 21,
   "id": "e18c4e2d",
   "metadata": {
    "ExecuteTime": {
     "end_time": "2021-11-03T19:21:57.486752Z",
     "start_time": "2021-11-03T19:21:54.115127Z"
    }
   },
   "outputs": [
    {
     "name": "stdout",
     "output_type": "stream",
     "text": [
      "2 2\n",
      "1 2\n",
      "3 4\n",
      "[ 1.5  3.5]\n",
      "[ 1.  1.]\n",
      "1.11803398875\n"
     ]
    }
   ],
   "source": [
    "import numpy as np\n",
    "rows, cols = map(int, input().strip().split())\n",
    "arr = []\n",
    "arr = np.array([input().strip().split() for _ in range(rows)], int)\n",
    "mean = np.mean(arr, axis = 1)\n",
    "var = np.var(arr, axis = 0)\n",
    "std = np.std(arr)\n",
    "print(mean)\n",
    "print(var)\n",
    "print(np.around(std, decimals=11))"
   ]
  },
  {
   "cell_type": "markdown",
   "id": "dbfa0938",
   "metadata": {},
   "source": [
    "<a id='Dot and Cross'></a>\n",
    "### Dot and Cross"
   ]
  },
  {
   "cell_type": "code",
   "execution_count": 36,
   "id": "328d5ebc",
   "metadata": {
    "ExecuteTime": {
     "end_time": "2021-11-03T19:40:08.734512Z",
     "start_time": "2021-11-03T19:39:58.168116Z"
    }
   },
   "outputs": [
    {
     "name": "stdout",
     "output_type": "stream",
     "text": [
      "2\n",
      "1 2\n",
      "3 4\n",
      "1 2\n",
      "3 4\n",
      "[[ 7 10]\n",
      " [15 22]]\n"
     ]
    }
   ],
   "source": [
    "import numpy as np\n",
    "N = int(input().strip())\n",
    "arr1 = np.array([input().strip().split() for _ in range(N)], int)\n",
    "arr2 = np.array([input().strip().split() for _ in range(N)], int)\n",
    "lst = []\n",
    "for id_row in range(N):\n",
    "    lst.append([])\n",
    "    for id_col in range(N):\n",
    "        lst[id_row].append(sum(arr1[id_row] * arr2[:, id_col]))\n",
    "        \n",
    "matrix_multiplication = np.array(lst)\n",
    "print(matrix_multiplication)"
   ]
  },
  {
   "cell_type": "markdown",
   "id": "8481d94a",
   "metadata": {},
   "source": [
    "<a id='Inner and Outer'></a>\n",
    "### Inner and Outer"
   ]
  },
  {
   "cell_type": "code",
   "execution_count": 38,
   "id": "f8d5ba12",
   "metadata": {
    "ExecuteTime": {
     "end_time": "2021-11-03T19:46:42.705349Z",
     "start_time": "2021-11-03T19:46:40.300719Z"
    }
   },
   "outputs": [
    {
     "name": "stdout",
     "output_type": "stream",
     "text": [
      "0 1\n",
      " 2 3\n",
      "3\n",
      "[[0 0]\n",
      " [2 3]]\n"
     ]
    }
   ],
   "source": [
    "import numpy as np\n",
    "arr1 = np.array(input().strip().split(), int)\n",
    "arr2 = np.array(input().strip().split(), int)\n",
    "print(np.inner(arr1, arr2))\n",
    "print(np.outer(arr1, arr2))"
   ]
  },
  {
   "cell_type": "markdown",
   "id": "a7d1c8fb",
   "metadata": {},
   "source": [
    "<a id='Linear Algebra'></a>\n",
    "### Linear Algebra"
   ]
  },
  {
   "cell_type": "code",
   "execution_count": 41,
   "id": "237d2c31",
   "metadata": {
    "ExecuteTime": {
     "end_time": "2021-11-03T19:56:54.583021Z",
     "start_time": "2021-11-03T19:56:48.926190Z"
    }
   },
   "outputs": [
    {
     "name": "stdout",
     "output_type": "stream",
     "text": [
      "2\n",
      "1.1 1.1\n",
      "1.1 1.1\n",
      "0.0\n"
     ]
    }
   ],
   "source": [
    "import numpy as np\n",
    "N = int(input().strip())\n",
    "arr = np.array([input().strip().split() for _ in range(N)], float)\n",
    "print(np.around(np.linalg.det(arr), decimals=2))"
   ]
  },
  {
   "cell_type": "markdown",
   "id": "f2b7e5eb",
   "metadata": {},
   "source": [
    "<a id='Re.start() & Re.end()'></a>\n",
    "### Re.start() & Re.end()"
   ]
  },
  {
   "cell_type": "code",
   "execution_count": 43,
   "id": "5f458caa",
   "metadata": {
    "ExecuteTime": {
     "end_time": "2021-11-03T20:01:23.762324Z",
     "start_time": "2021-11-03T20:01:20.546247Z"
    }
   },
   "outputs": [
    {
     "name": "stdout",
     "output_type": "stream",
     "text": [
      "aaadaa\n",
      "aa\n",
      "(0, 1)\n",
      "(1, 2)\n",
      "(4, 5)\n"
     ]
    }
   ],
   "source": [
    "# Solution from discussions\n",
    "# Enter your code here. Read input from STDIN. Print output to STDOUT\n",
    "S = input()\n",
    "k = input()\n",
    "import re\n",
    "pattern = re.compile(k)\n",
    "r = pattern.search(S)\n",
    "if not r: print(\"(-1, -1)\")\n",
    "while r:\n",
    "    print(\"({0}, {1})\".format(r.start(), r.end() - 1))\n",
    "    r = pattern.search(S,r.start() + 1)"
   ]
  },
  {
   "cell_type": "markdown",
   "id": "f646bd27",
   "metadata": {},
   "source": [
    "<a id='Decorators 2 - Name Directory'></a>\n",
    "### Decorators 2 - Name Directory"
   ]
  },
  {
   "cell_type": "code",
   "execution_count": 44,
   "id": "2509c82e",
   "metadata": {
    "ExecuteTime": {
     "end_time": "2021-11-03T20:48:55.608266Z",
     "start_time": "2021-11-03T20:48:33.050520Z"
    }
   },
   "outputs": [
    {
     "name": "stdout",
     "output_type": "stream",
     "text": [
      "3\n",
      "Mike Thomson 20 M\n",
      "Robert Bustle 32 M\n",
      "Andria Bustle 30 F\n",
      "Mr. Mike Thomson\n",
      "Ms. Andria Bustle\n",
      "Mr. Robert Bustle\n"
     ]
    }
   ],
   "source": [
    "# Solution from discussions\n",
    "import operator\n",
    "\n",
    "def person_lister(f):\n",
    "    def inner(people):\n",
    "        # complete the function\n",
    "        return (f(spers) for spers in sorted((person[:2]+[int(person[2])]+person[3:]+[idx] for idx, person in enumerate(people)), key=operator.itemgetter(2, 4)))          \n",
    "    return inner\n",
    "\n",
    "@person_lister\n",
    "def name_format(person):\n",
    "    return (\"Mr. \" if person[3] == \"M\" else \"Ms. \") + person[0] + \" \" + person[1]\n",
    "\n",
    "if __name__ == '__main__':\n",
    "    people = [input().split() for i in range(int(input()))]\n",
    "    print(*name_format(people), sep='\\n')"
   ]
  },
  {
   "cell_type": "markdown",
   "id": "bf5617c2",
   "metadata": {},
   "source": [
    "<a id='Merge the Tools!'></a>\n",
    "### Merge the Tools!"
   ]
  },
  {
   "cell_type": "code",
   "execution_count": 32,
   "id": "18755872",
   "metadata": {
    "ExecuteTime": {
     "end_time": "2021-11-06T20:55:09.050981Z",
     "start_time": "2021-11-06T20:55:07.326056Z"
    }
   },
   "outputs": [
    {
     "name": "stdout",
     "output_type": "stream",
     "text": [
      "AABCAAADA\n",
      "3\n",
      "AB\n",
      "CA\n",
      "AD\n"
     ]
    }
   ],
   "source": [
    "def merge_the_tools(string, k):\n",
    "    # your code goes here\n",
    "    n = len(string)\n",
    "    for _ in range(n//k):\n",
    "        substring = string[:k]\n",
    "        string = string[k:]\n",
    "        for ch in substring:\n",
    "            if substring.count(ch) > 1:\n",
    "                index = substring.rfind(ch)\n",
    "                if index == len(substring) - 1:\n",
    "                    substring = substring[:-1]\n",
    "                else:\n",
    "                    substring = substring[:index] + substring[index+1:]\n",
    "        print(substring)\n",
    "if __name__ == '__main__':\n",
    "    string, k = input(), int(input())\n",
    "    merge_the_tools(string, k)"
   ]
  },
  {
   "cell_type": "markdown",
   "id": "9169fb01",
   "metadata": {},
   "source": [
    "<a id='Company Logo'></a>\n",
    "### Company Logo"
   ]
  },
  {
   "cell_type": "code",
   "execution_count": 42,
   "id": "3ee93451",
   "metadata": {
    "ExecuteTime": {
     "end_time": "2021-11-13T18:42:01.010920Z",
     "start_time": "2021-11-13T18:42:00.145148Z"
    }
   },
   "outputs": [
    {
     "name": "stdout",
     "output_type": "stream",
     "text": [
      "aabbbccde\n",
      "b 3\n",
      "a 2\n",
      "c 2\n"
     ]
    }
   ],
   "source": [
    "#!/bin/python3\n",
    "\n",
    "import math\n",
    "import os\n",
    "import random\n",
    "import re\n",
    "import sys\n",
    "\n",
    "\n",
    "\n",
    "if __name__ == '__main__':\n",
    "    s = input()\n",
    "    characters = {}\n",
    "    \n",
    "    for ch in set(s):\n",
    "        characters[ch] = s.count(ch)\n",
    "        \n",
    "    for key, value in sorted(characters.items(), key=lambda x :(-x[1], x[0]))[:3]:\n",
    "        print(key, value)"
   ]
  },
  {
   "cell_type": "markdown",
   "id": "b2b20be9",
   "metadata": {},
   "source": [
    "<a id='The Minion Game'></a>\n",
    "### The Minion Game"
   ]
  },
  {
   "cell_type": "code",
   "execution_count": 47,
   "id": "be2e0f98",
   "metadata": {
    "ExecuteTime": {
     "end_time": "2021-11-16T19:35:59.045101Z",
     "start_time": "2021-11-16T19:35:58.078528Z"
    }
   },
   "outputs": [
    {
     "name": "stdout",
     "output_type": "stream",
     "text": [
      "BANANA\n",
      "Stuart 12\n"
     ]
    }
   ],
   "source": [
    "def minion_game(string):\n",
    "    vowels = 'AEIOU'\n",
    "    kevsc = 0\n",
    "    stusc = 0\n",
    "    for i in range(len(s)):\n",
    "        if s[i] in vowels:\n",
    "            kevsc += (len(s)-i)\n",
    "        else:\n",
    "            stusc += (len(s)-i)\n",
    "\n",
    "    if kevsc > stusc:\n",
    "        print( \"Kevin\", kevsc)\n",
    "    elif kevsc < stusc:\n",
    "        print( \"Stuart\", stusc)\n",
    "    else:\n",
    "        print(\"Draw\")\n",
    "\n",
    "\n",
    "if __name__ == '__main__':\n",
    "    s = input()\n",
    "    minion_game(s)"
   ]
  },
  {
   "cell_type": "markdown",
   "id": "b8af677f",
   "metadata": {},
   "source": [
    "<a id='Time Delta'></a>\n",
    "### Time Delta"
   ]
  },
  {
   "cell_type": "code",
   "execution_count": 4,
   "id": "bcc5eb47",
   "metadata": {
    "ExecuteTime": {
     "end_time": "2021-11-17T08:18:53.011024Z",
     "start_time": "2021-11-17T08:18:20.616385Z"
    }
   },
   "outputs": [
    {
     "name": "stdout",
     "output_type": "stream",
     "text": [
      "2\n",
      "Sun 10 May 2015 13:54:36 -0700\n",
      "Sun 10 May 2015 13:54:36 -0000\n",
      "25200\n",
      "Sat 02 May 2015 19:54:36 +0530\n",
      "Fri 01 May 2015 13:54:36 -0000\n",
      "88200\n"
     ]
    }
   ],
   "source": [
    "#!/bin/python3\n",
    "\n",
    "import math\n",
    "import os\n",
    "import random\n",
    "import re\n",
    "import sys\n",
    "from datetime import datetime as dt\n",
    "# Complete the time_delta function below.\n",
    "def time_delta(t1, t2):\n",
    "    fmt = '%a %d %b %Y %H:%M:%S %z'\n",
    "    diff = int(abs((dt.strptime(t1, fmt) - \n",
    "                       dt.strptime(t2, fmt)).total_seconds()))\n",
    "    print(diff)\n",
    "    return diff\n",
    "if __name__ == '__main__':\n",
    "    fptr = open(os.environ['OUTPUT_PATH'], 'w')\n",
    "\n",
    "    t = int(input())\n",
    "\n",
    "    for t_itr in range(t):\n",
    "        t1 = input()\n",
    "\n",
    "        t2 = input()\n",
    "\n",
    "        delta = time_delta(t1, t2)\n",
    "\n",
    "        fptr.write(str(delta) + '\\n')\n",
    "\n",
    "    fptr.close()"
   ]
  },
  {
   "cell_type": "markdown",
   "id": "5f182bd7",
   "metadata": {},
   "source": [
    "<a id='Find Angle MBC'></a>\n",
    "### Find Angle MBC"
   ]
  },
  {
   "cell_type": "code",
   "execution_count": 14,
   "id": "7b68b019",
   "metadata": {},
   "outputs": [
    {
     "name": "stdout",
     "output_type": "stream",
     "text": [
      "10\n",
      "10\n",
      "45°\n"
     ]
    }
   ],
   "source": [
    "import math\n",
    "ab = int(input().strip()) \n",
    "bc = int(input().strip())\n",
    "angle = str(int(round(math.degrees(math.atan(ab/bc))))) + u\"\\N{DEGREE SIGN}\"\n",
    "print(angle)"
   ]
  },
  {
   "cell_type": "markdown",
   "id": "6114081a",
   "metadata": {},
   "source": [
    "<a id='No Idea!'></a>\n",
    "### No Idea!"
   ]
  },
  {
   "cell_type": "code",
   "execution_count": 17,
   "id": "35ef2911",
   "metadata": {},
   "outputs": [
    {
     "name": "stdout",
     "output_type": "stream",
     "text": [
      "3 2\n",
      "1 5 3\n",
      "3 1\n",
      "5 7\n",
      "1\n"
     ]
    }
   ],
   "source": [
    "n, m = map(int, input().strip().split())\n",
    "arr = map(int, input().strip().split())\n",
    "A = set(map(int, input().strip().split()))\n",
    "B = set(map(int, input().strip().split()))\n",
    "happiness = 0\n",
    "for val in arr:\n",
    "    if val in A:\n",
    "        happiness += 1\n",
    "    if val in B:\n",
    "        happiness -= 1\n",
    "        \n",
    "print(happiness)"
   ]
  },
  {
   "cell_type": "code",
   "execution_count": null,
   "id": "1c1f9181",
   "metadata": {},
   "outputs": [],
   "source": [
    "<a id='Refer_to'></a>\n",
    "### Refer_to"
   ]
  },
  {
   "cell_type": "code",
   "execution_count": null,
   "id": "bcaa0a3e",
   "metadata": {},
   "outputs": [],
   "source": [
    "<a id='Refer_to'></a>\n",
    "### Refer_to"
   ]
  },
  {
   "cell_type": "code",
   "execution_count": null,
   "id": "b0ce86f7",
   "metadata": {},
   "outputs": [],
   "source": [
    "<a id='Refer_to'></a>\n",
    "### Refer_to"
   ]
  },
  {
   "cell_type": "code",
   "execution_count": null,
   "id": "88ef8a6b",
   "metadata": {},
   "outputs": [],
   "source": [
    "<a id='Refer_to'></a>\n",
    "### Refer_to"
   ]
  },
  {
   "cell_type": "code",
   "execution_count": null,
   "id": "acdb9ee4",
   "metadata": {},
   "outputs": [],
   "source": [
    "<a id='Refer_to'></a>\n",
    "### Refer_to"
   ]
  },
  {
   "cell_type": "code",
   "execution_count": null,
   "id": "310646bb",
   "metadata": {},
   "outputs": [],
   "source": [
    "<a id='Refer_to'></a>\n",
    "### Refer_to"
   ]
  },
  {
   "cell_type": "code",
   "execution_count": null,
   "id": "e24a8e9e",
   "metadata": {},
   "outputs": [],
   "source": [
    "<a id='Refer_to'></a>\n",
    "### Refer_to"
   ]
  }
 ],
 "metadata": {
  "kernelspec": {
   "display_name": "Python 3 (ipykernel)",
   "language": "python",
   "name": "python3"
  },
  "language_info": {
   "codemirror_mode": {
    "name": "ipython",
    "version": 3
   },
   "file_extension": ".py",
   "mimetype": "text/x-python",
   "name": "python",
   "nbconvert_exporter": "python",
   "pygments_lexer": "ipython3",
   "version": "3.9.7"
  }
 },
 "nbformat": 4,
 "nbformat_minor": 5
}
